{
  "nbformat": 4,
  "nbformat_minor": 0,
  "metadata": {
    "colab": {
      "provenance": []
    },
    "kernelspec": {
      "name": "python3",
      "display_name": "Python 3"
    },
    "language_info": {
      "name": "python"
    }
  },
  "cells": [
    {
      "cell_type": "markdown",
      "source": [
        "## weight-tuning_EB_LG\n",
        "*   Epoch Bound : 在train 4000中\n",
        "*   Learning Goal : loss要小於0.25"
      ],
      "metadata": {
        "id": "lirGs2xtBcZx"
      }
    },
    {
      "cell_type": "code",
      "execution_count": null,
      "metadata": {
        "id": "iMGxwY-_Bb9D"
      },
      "outputs": [],
      "source": [
        "import pandas as pd\n",
        "import numpy as np\n",
        "import torch\n",
        "import torch.nn as nn\n",
        "import torch.optim as optim\n",
        "from sklearn.datasets import load_diabetes\n",
        "from sklearn.preprocessing import StandardScaler\n",
        "from sklearn.model_selection import train_test_split\n",
        "import matplotlib.pyplot as plt\n",
        "\n",
        "# Load the Boston Housing dataset\n",
        "data = pd.read_csv('/content/drive/MyDrive/Colab Notebooks/新型學習演算法/diabetes.csv')"
      ]
    },
    {
      "cell_type": "code",
      "source": [
        "data.head()"
      ],
      "metadata": {
        "colab": {
          "base_uri": "https://localhost:8080/",
          "height": 206
        },
        "id": "NRiTur3qPa2h",
        "outputId": "4015cda2-b3d7-4da4-f3fd-c45aa35cdca3"
      },
      "execution_count": null,
      "outputs": [
        {
          "output_type": "execute_result",
          "data": {
            "text/plain": [
              "   Pregnancies  Glucose  BloodPressure  SkinThickness  Insulin   BMI  \\\n",
              "0            6      148             72             35        0  33.6   \n",
              "1            1       85             66             29        0  26.6   \n",
              "2            8      183             64              0        0  23.3   \n",
              "3            1       89             66             23       94  28.1   \n",
              "4            0      137             40             35      168  43.1   \n",
              "\n",
              "   DiabetesPedigreeFunction  Age  Outcome  \n",
              "0                     0.627   50        1  \n",
              "1                     0.351   31        0  \n",
              "2                     0.672   32        1  \n",
              "3                     0.167   21        0  \n",
              "4                     2.288   33        1  "
            ],
            "text/html": [
              "\n",
              "  <div id=\"df-0a46f281-3b2a-4069-b927-4bcea51ccf26\">\n",
              "    <div class=\"colab-df-container\">\n",
              "      <div>\n",
              "<style scoped>\n",
              "    .dataframe tbody tr th:only-of-type {\n",
              "        vertical-align: middle;\n",
              "    }\n",
              "\n",
              "    .dataframe tbody tr th {\n",
              "        vertical-align: top;\n",
              "    }\n",
              "\n",
              "    .dataframe thead th {\n",
              "        text-align: right;\n",
              "    }\n",
              "</style>\n",
              "<table border=\"1\" class=\"dataframe\">\n",
              "  <thead>\n",
              "    <tr style=\"text-align: right;\">\n",
              "      <th></th>\n",
              "      <th>Pregnancies</th>\n",
              "      <th>Glucose</th>\n",
              "      <th>BloodPressure</th>\n",
              "      <th>SkinThickness</th>\n",
              "      <th>Insulin</th>\n",
              "      <th>BMI</th>\n",
              "      <th>DiabetesPedigreeFunction</th>\n",
              "      <th>Age</th>\n",
              "      <th>Outcome</th>\n",
              "    </tr>\n",
              "  </thead>\n",
              "  <tbody>\n",
              "    <tr>\n",
              "      <th>0</th>\n",
              "      <td>6</td>\n",
              "      <td>148</td>\n",
              "      <td>72</td>\n",
              "      <td>35</td>\n",
              "      <td>0</td>\n",
              "      <td>33.6</td>\n",
              "      <td>0.627</td>\n",
              "      <td>50</td>\n",
              "      <td>1</td>\n",
              "    </tr>\n",
              "    <tr>\n",
              "      <th>1</th>\n",
              "      <td>1</td>\n",
              "      <td>85</td>\n",
              "      <td>66</td>\n",
              "      <td>29</td>\n",
              "      <td>0</td>\n",
              "      <td>26.6</td>\n",
              "      <td>0.351</td>\n",
              "      <td>31</td>\n",
              "      <td>0</td>\n",
              "    </tr>\n",
              "    <tr>\n",
              "      <th>2</th>\n",
              "      <td>8</td>\n",
              "      <td>183</td>\n",
              "      <td>64</td>\n",
              "      <td>0</td>\n",
              "      <td>0</td>\n",
              "      <td>23.3</td>\n",
              "      <td>0.672</td>\n",
              "      <td>32</td>\n",
              "      <td>1</td>\n",
              "    </tr>\n",
              "    <tr>\n",
              "      <th>3</th>\n",
              "      <td>1</td>\n",
              "      <td>89</td>\n",
              "      <td>66</td>\n",
              "      <td>23</td>\n",
              "      <td>94</td>\n",
              "      <td>28.1</td>\n",
              "      <td>0.167</td>\n",
              "      <td>21</td>\n",
              "      <td>0</td>\n",
              "    </tr>\n",
              "    <tr>\n",
              "      <th>4</th>\n",
              "      <td>0</td>\n",
              "      <td>137</td>\n",
              "      <td>40</td>\n",
              "      <td>35</td>\n",
              "      <td>168</td>\n",
              "      <td>43.1</td>\n",
              "      <td>2.288</td>\n",
              "      <td>33</td>\n",
              "      <td>1</td>\n",
              "    </tr>\n",
              "  </tbody>\n",
              "</table>\n",
              "</div>\n",
              "      <button class=\"colab-df-convert\" onclick=\"convertToInteractive('df-0a46f281-3b2a-4069-b927-4bcea51ccf26')\"\n",
              "              title=\"Convert this dataframe to an interactive table.\"\n",
              "              style=\"display:none;\">\n",
              "        \n",
              "  <svg xmlns=\"http://www.w3.org/2000/svg\" height=\"24px\"viewBox=\"0 0 24 24\"\n",
              "       width=\"24px\">\n",
              "    <path d=\"M0 0h24v24H0V0z\" fill=\"none\"/>\n",
              "    <path d=\"M18.56 5.44l.94 2.06.94-2.06 2.06-.94-2.06-.94-.94-2.06-.94 2.06-2.06.94zm-11 1L8.5 8.5l.94-2.06 2.06-.94-2.06-.94L8.5 2.5l-.94 2.06-2.06.94zm10 10l.94 2.06.94-2.06 2.06-.94-2.06-.94-.94-2.06-.94 2.06-2.06.94z\"/><path d=\"M17.41 7.96l-1.37-1.37c-.4-.4-.92-.59-1.43-.59-.52 0-1.04.2-1.43.59L10.3 9.45l-7.72 7.72c-.78.78-.78 2.05 0 2.83L4 21.41c.39.39.9.59 1.41.59.51 0 1.02-.2 1.41-.59l7.78-7.78 2.81-2.81c.8-.78.8-2.07 0-2.86zM5.41 20L4 18.59l7.72-7.72 1.47 1.35L5.41 20z\"/>\n",
              "  </svg>\n",
              "      </button>\n",
              "      \n",
              "  <style>\n",
              "    .colab-df-container {\n",
              "      display:flex;\n",
              "      flex-wrap:wrap;\n",
              "      gap: 12px;\n",
              "    }\n",
              "\n",
              "    .colab-df-convert {\n",
              "      background-color: #E8F0FE;\n",
              "      border: none;\n",
              "      border-radius: 50%;\n",
              "      cursor: pointer;\n",
              "      display: none;\n",
              "      fill: #1967D2;\n",
              "      height: 32px;\n",
              "      padding: 0 0 0 0;\n",
              "      width: 32px;\n",
              "    }\n",
              "\n",
              "    .colab-df-convert:hover {\n",
              "      background-color: #E2EBFA;\n",
              "      box-shadow: 0px 1px 2px rgba(60, 64, 67, 0.3), 0px 1px 3px 1px rgba(60, 64, 67, 0.15);\n",
              "      fill: #174EA6;\n",
              "    }\n",
              "\n",
              "    [theme=dark] .colab-df-convert {\n",
              "      background-color: #3B4455;\n",
              "      fill: #D2E3FC;\n",
              "    }\n",
              "\n",
              "    [theme=dark] .colab-df-convert:hover {\n",
              "      background-color: #434B5C;\n",
              "      box-shadow: 0px 1px 3px 1px rgba(0, 0, 0, 0.15);\n",
              "      filter: drop-shadow(0px 1px 2px rgba(0, 0, 0, 0.3));\n",
              "      fill: #FFFFFF;\n",
              "    }\n",
              "  </style>\n",
              "\n",
              "      <script>\n",
              "        const buttonEl =\n",
              "          document.querySelector('#df-0a46f281-3b2a-4069-b927-4bcea51ccf26 button.colab-df-convert');\n",
              "        buttonEl.style.display =\n",
              "          google.colab.kernel.accessAllowed ? 'block' : 'none';\n",
              "\n",
              "        async function convertToInteractive(key) {\n",
              "          const element = document.querySelector('#df-0a46f281-3b2a-4069-b927-4bcea51ccf26');\n",
              "          const dataTable =\n",
              "            await google.colab.kernel.invokeFunction('convertToInteractive',\n",
              "                                                     [key], {});\n",
              "          if (!dataTable) return;\n",
              "\n",
              "          const docLinkHtml = 'Like what you see? Visit the ' +\n",
              "            '<a target=\"_blank\" href=https://colab.research.google.com/notebooks/data_table.ipynb>data table notebook</a>'\n",
              "            + ' to learn more about interactive tables.';\n",
              "          element.innerHTML = '';\n",
              "          dataTable['output_type'] = 'display_data';\n",
              "          await google.colab.output.renderOutput(dataTable, element);\n",
              "          const docLink = document.createElement('div');\n",
              "          docLink.innerHTML = docLinkHtml;\n",
              "          element.appendChild(docLink);\n",
              "        }\n",
              "      </script>\n",
              "    </div>\n",
              "  </div>\n",
              "  "
            ]
          },
          "metadata": {},
          "execution_count": 348
        }
      ]
    },
    {
      "cell_type": "code",
      "source": [
        "print(\"dimension of data: {}\".format(data.shape))"
      ],
      "metadata": {
        "colab": {
          "base_uri": "https://localhost:8080/"
        },
        "id": "olgDwmRp0cyr",
        "outputId": "3a7f88c1-7969-4c0e-a991-fbe85b0da63f"
      },
      "execution_count": null,
      "outputs": [
        {
          "output_type": "stream",
          "name": "stdout",
          "text": [
            "dimension of data: (768, 9)\n"
          ]
        }
      ]
    },
    {
      "cell_type": "code",
      "source": [
        "# Normalize the data\n",
        "scaler = StandardScaler()\n",
        "X = scaler.fit_transform(data.drop('Outcome',axis = 1))\n",
        "y = data['Outcome']\n",
        "X_train, X_test, y_train, y_test = train_test_split(X, y, test_size=0.2)"
      ],
      "metadata": {
        "id": "Ny4YAcjI1eJw"
      },
      "execution_count": null,
      "outputs": []
    },
    {
      "cell_type": "code",
      "source": [
        "# 將數據轉換為 PyTorch 張量\n",
        "X_train = torch.tensor(X_train, dtype=torch.float32)\n",
        "X_test = torch.tensor(X_test, dtype=torch.float32)\n",
        "y_train = torch.tensor(y_train.values, dtype=torch.float32)\n",
        "y_test = torch.tensor(y_test.values, dtype=torch.float32)"
      ],
      "metadata": {
        "id": "A_Z848pgL1fC"
      },
      "execution_count": null,
      "outputs": []
    },
    {
      "cell_type": "code",
      "source": [
        "# 設定參數\n",
        "D_in = X.shape[1]\n",
        "H = 11\n",
        "D_out = 1\n",
        "print(f'Input layer: {D_in}')\n",
        "\n",
        "# learning rate\n",
        "learning_rate = 0.001\n",
        "\n",
        "# learning goal\n",
        "lg = 0.32\n",
        "\n",
        "epoch_bound = 5000"
      ],
      "metadata": {
        "colab": {
          "base_uri": "https://localhost:8080/"
        },
        "id": "aR_1oPonBv_0",
        "outputId": "d4c0512f-019c-46ce-d87c-598cd54fb519"
      },
      "execution_count": null,
      "outputs": [
        {
          "output_type": "stream",
          "name": "stdout",
          "text": [
            "Input layer: 8\n"
          ]
        }
      ]
    },
    {
      "cell_type": "code",
      "source": [
        "from collections import OrderedDict\n",
        "# Define 2-layer neural network\n",
        "model_EB_LG = torch.nn.Sequential(OrderedDict([\n",
        "    ('fc1', torch.nn.Linear(D_in, H)),\n",
        "    ('relu', torch.nn.ReLU()),\n",
        "    ('output', torch.nn.Linear(H, D_out))\n",
        "])\n",
        ")"
      ],
      "metadata": {
        "id": "fqKxAPOY2qC3"
      },
      "execution_count": null,
      "outputs": []
    },
    {
      "cell_type": "code",
      "source": [
        "import time\n",
        "# 損失函數和learning rate\n",
        "criterion = nn.BCEWithLogitsLoss()  # Use BCEWithLogitsLoss for binary classification without sigmoid\n",
        "optimizer = optim.Adam(model_EB_LG.parameters(), lr=learning_rate)\n",
        "\n",
        "train_losses = []\n",
        "\n",
        "# Train the network\n",
        "loss = float('Inf')\n",
        "start_time = time.time()\n",
        "for epoch in range(epoch_bound):\n",
        "  if loss > lg:\n",
        "\n",
        "    output = model_EB_LG(X_train)\n",
        "    loss = criterion(output.view(-1), y_train)\n",
        "\n",
        "    optimizer.zero_grad()\n",
        "    loss.backward()\n",
        "    optimizer.step()\n",
        "\n",
        "    # Collect the training loss values in list\n",
        "    train_losses.append(loss.item())\n",
        "  else:\n",
        "    break\n",
        "\n",
        "\n",
        "end_time = time.time()\n",
        "duration = end_time - start_time\n",
        "print(f\"Training took {duration} seconds.\")\n",
        "print()\n",
        "if epoch+1 < epoch_bound:\n",
        "  print('Acceptable, Epoch {}, Loss: {}'.format(epoch+1, loss.item()))\n",
        "else:\n",
        "  print('Unacceptable, reach epochs {} but loss > {}.\\nEpoch {}, Loss: {}'.format(epoch_bound, lg, epoch+1, loss.item()))\n",
        "\n"
      ],
      "metadata": {
        "colab": {
          "base_uri": "https://localhost:8080/"
        },
        "id": "BDPxTHfYFJg7",
        "outputId": "7e62d560-9b36-4356-9ede-10d6490b6b32"
      },
      "execution_count": null,
      "outputs": [
        {
          "output_type": "stream",
          "name": "stdout",
          "text": [
            "Training took 3.0064640045166016 seconds.\n",
            "\n",
            "Unacceptable, reach epochs 5000 but loss > 0.32.\n",
            "Epoch 5000, Loss: 0.3387976884841919\n"
          ]
        }
      ]
    },
    {
      "cell_type": "code",
      "source": [
        "y_pred = model_EB_LG(X_test)\n",
        "\n",
        "# Convert predicted probabilities to class labels\n",
        "y_pred_labels = torch.round(torch.sigmoid(y_pred))\n",
        "\n",
        "# Calculate accuracy\n",
        "total = len(y_test)\n",
        "correct = 0\n",
        "for i in range(len(y_pred_labels)):\n",
        "  if y_pred_labels[i] == y_test[i]:\n",
        "    correct += 1\n",
        "accuracy = (correct / total) * 100\n",
        "\n",
        "print(f\"Accuracy: {accuracy}\")"
      ],
      "metadata": {
        "colab": {
          "base_uri": "https://localhost:8080/"
        },
        "id": "DXIEdv9onDTJ",
        "outputId": "12191bcd-d829-44b3-d93a-940fbe6518f3"
      },
      "execution_count": null,
      "outputs": [
        {
          "output_type": "stream",
          "name": "stdout",
          "text": [
            "Accuracy: 72.07792207792207\n"
          ]
        }
      ]
    },
    {
      "cell_type": "markdown",
      "source": [
        "## Clean the data and retrain it"
      ],
      "metadata": {
        "id": "zbdl1j6r7Lln"
      }
    },
    {
      "cell_type": "code",
      "source": [
        "data.info()"
      ],
      "metadata": {
        "colab": {
          "base_uri": "https://localhost:8080/"
        },
        "id": "tvPjezUF7LAu",
        "outputId": "3941ef9f-4575-4dc4-9986-dba87698ded9"
      },
      "execution_count": null,
      "outputs": [
        {
          "output_type": "stream",
          "name": "stdout",
          "text": [
            "<class 'pandas.core.frame.DataFrame'>\n",
            "RangeIndex: 768 entries, 0 to 767\n",
            "Data columns (total 9 columns):\n",
            " #   Column                    Non-Null Count  Dtype  \n",
            "---  ------                    --------------  -----  \n",
            " 0   Pregnancies               768 non-null    int64  \n",
            " 1   Glucose                   768 non-null    int64  \n",
            " 2   BloodPressure             768 non-null    int64  \n",
            " 3   SkinThickness             768 non-null    int64  \n",
            " 4   Insulin                   768 non-null    int64  \n",
            " 5   BMI                       768 non-null    float64\n",
            " 6   DiabetesPedigreeFunction  768 non-null    float64\n",
            " 7   Age                       768 non-null    int64  \n",
            " 8   Outcome                   768 non-null    int64  \n",
            "dtypes: float64(2), int64(7)\n",
            "memory usage: 54.1 KB\n"
          ]
        }
      ]
    },
    {
      "cell_type": "code",
      "source": [
        "def count_zero_num(feature):\n",
        "  return len(data[data[feature]==0])\n",
        "print('zero-values count')\n",
        "for i in data.columns:\n",
        "  temp = count_zero_num(i)\n",
        "  print(f'{i}:\\n{temp}\\n')"
      ],
      "metadata": {
        "colab": {
          "base_uri": "https://localhost:8080/"
        },
        "id": "9S3dJmjW9Lut",
        "outputId": "200f5086-ea14-4a25-d8c6-b400a3fcc983"
      },
      "execution_count": null,
      "outputs": [
        {
          "output_type": "stream",
          "name": "stdout",
          "text": [
            "zero-values count\n",
            "Pregnancies:\n",
            "111\n",
            "\n",
            "Glucose:\n",
            "5\n",
            "\n",
            "BloodPressure:\n",
            "35\n",
            "\n",
            "SkinThickness:\n",
            "227\n",
            "\n",
            "Insulin:\n",
            "374\n",
            "\n",
            "BMI:\n",
            "11\n",
            "\n",
            "DiabetesPedigreeFunction:\n",
            "0\n",
            "\n",
            "Age:\n",
            "0\n",
            "\n",
            "Outcome:\n",
            "500\n",
            "\n"
          ]
        }
      ]
    },
    {
      "cell_type": "markdown",
      "source": [
        "### 把Pregnancies, SkinThickness, Insulin 0 的資料用mean取代"
      ],
      "metadata": {
        "id": "40DjUfp0-m0w"
      }
    },
    {
      "cell_type": "code",
      "source": [
        "data[['Pregnancies', 'SkinThickness', 'Insulin']] = data[['Pregnancies', 'SkinThickness', 'Insulin']].replace(0, np.nan)"
      ],
      "metadata": {
        "id": "cd3gCKea8Pmt"
      },
      "execution_count": null,
      "outputs": []
    },
    {
      "cell_type": "code",
      "source": [
        "data.head()"
      ],
      "metadata": {
        "colab": {
          "base_uri": "https://localhost:8080/",
          "height": 206
        },
        "id": "sWB3RUMG--gz",
        "outputId": "469716b0-de39-4b87-b115-a135a8693453"
      },
      "execution_count": null,
      "outputs": [
        {
          "output_type": "execute_result",
          "data": {
            "text/plain": [
              "   Pregnancies  Glucose  BloodPressure  SkinThickness  Insulin   BMI  \\\n",
              "0          6.0      148             72           35.0      NaN  33.6   \n",
              "1          1.0       85             66           29.0      NaN  26.6   \n",
              "2          8.0      183             64            NaN      NaN  23.3   \n",
              "3          1.0       89             66           23.0     94.0  28.1   \n",
              "4          NaN      137             40           35.0    168.0  43.1   \n",
              "\n",
              "   DiabetesPedigreeFunction  Age  Outcome  \n",
              "0                     0.627   50        1  \n",
              "1                     0.351   31        0  \n",
              "2                     0.672   32        1  \n",
              "3                     0.167   21        0  \n",
              "4                     2.288   33        1  "
            ],
            "text/html": [
              "\n",
              "  <div id=\"df-23bd106b-ca11-43c4-a112-1e3f612deb56\">\n",
              "    <div class=\"colab-df-container\">\n",
              "      <div>\n",
              "<style scoped>\n",
              "    .dataframe tbody tr th:only-of-type {\n",
              "        vertical-align: middle;\n",
              "    }\n",
              "\n",
              "    .dataframe tbody tr th {\n",
              "        vertical-align: top;\n",
              "    }\n",
              "\n",
              "    .dataframe thead th {\n",
              "        text-align: right;\n",
              "    }\n",
              "</style>\n",
              "<table border=\"1\" class=\"dataframe\">\n",
              "  <thead>\n",
              "    <tr style=\"text-align: right;\">\n",
              "      <th></th>\n",
              "      <th>Pregnancies</th>\n",
              "      <th>Glucose</th>\n",
              "      <th>BloodPressure</th>\n",
              "      <th>SkinThickness</th>\n",
              "      <th>Insulin</th>\n",
              "      <th>BMI</th>\n",
              "      <th>DiabetesPedigreeFunction</th>\n",
              "      <th>Age</th>\n",
              "      <th>Outcome</th>\n",
              "    </tr>\n",
              "  </thead>\n",
              "  <tbody>\n",
              "    <tr>\n",
              "      <th>0</th>\n",
              "      <td>6.0</td>\n",
              "      <td>148</td>\n",
              "      <td>72</td>\n",
              "      <td>35.0</td>\n",
              "      <td>NaN</td>\n",
              "      <td>33.6</td>\n",
              "      <td>0.627</td>\n",
              "      <td>50</td>\n",
              "      <td>1</td>\n",
              "    </tr>\n",
              "    <tr>\n",
              "      <th>1</th>\n",
              "      <td>1.0</td>\n",
              "      <td>85</td>\n",
              "      <td>66</td>\n",
              "      <td>29.0</td>\n",
              "      <td>NaN</td>\n",
              "      <td>26.6</td>\n",
              "      <td>0.351</td>\n",
              "      <td>31</td>\n",
              "      <td>0</td>\n",
              "    </tr>\n",
              "    <tr>\n",
              "      <th>2</th>\n",
              "      <td>8.0</td>\n",
              "      <td>183</td>\n",
              "      <td>64</td>\n",
              "      <td>NaN</td>\n",
              "      <td>NaN</td>\n",
              "      <td>23.3</td>\n",
              "      <td>0.672</td>\n",
              "      <td>32</td>\n",
              "      <td>1</td>\n",
              "    </tr>\n",
              "    <tr>\n",
              "      <th>3</th>\n",
              "      <td>1.0</td>\n",
              "      <td>89</td>\n",
              "      <td>66</td>\n",
              "      <td>23.0</td>\n",
              "      <td>94.0</td>\n",
              "      <td>28.1</td>\n",
              "      <td>0.167</td>\n",
              "      <td>21</td>\n",
              "      <td>0</td>\n",
              "    </tr>\n",
              "    <tr>\n",
              "      <th>4</th>\n",
              "      <td>NaN</td>\n",
              "      <td>137</td>\n",
              "      <td>40</td>\n",
              "      <td>35.0</td>\n",
              "      <td>168.0</td>\n",
              "      <td>43.1</td>\n",
              "      <td>2.288</td>\n",
              "      <td>33</td>\n",
              "      <td>1</td>\n",
              "    </tr>\n",
              "  </tbody>\n",
              "</table>\n",
              "</div>\n",
              "      <button class=\"colab-df-convert\" onclick=\"convertToInteractive('df-23bd106b-ca11-43c4-a112-1e3f612deb56')\"\n",
              "              title=\"Convert this dataframe to an interactive table.\"\n",
              "              style=\"display:none;\">\n",
              "        \n",
              "  <svg xmlns=\"http://www.w3.org/2000/svg\" height=\"24px\"viewBox=\"0 0 24 24\"\n",
              "       width=\"24px\">\n",
              "    <path d=\"M0 0h24v24H0V0z\" fill=\"none\"/>\n",
              "    <path d=\"M18.56 5.44l.94 2.06.94-2.06 2.06-.94-2.06-.94-.94-2.06-.94 2.06-2.06.94zm-11 1L8.5 8.5l.94-2.06 2.06-.94-2.06-.94L8.5 2.5l-.94 2.06-2.06.94zm10 10l.94 2.06.94-2.06 2.06-.94-2.06-.94-.94-2.06-.94 2.06-2.06.94z\"/><path d=\"M17.41 7.96l-1.37-1.37c-.4-.4-.92-.59-1.43-.59-.52 0-1.04.2-1.43.59L10.3 9.45l-7.72 7.72c-.78.78-.78 2.05 0 2.83L4 21.41c.39.39.9.59 1.41.59.51 0 1.02-.2 1.41-.59l7.78-7.78 2.81-2.81c.8-.78.8-2.07 0-2.86zM5.41 20L4 18.59l7.72-7.72 1.47 1.35L5.41 20z\"/>\n",
              "  </svg>\n",
              "      </button>\n",
              "      \n",
              "  <style>\n",
              "    .colab-df-container {\n",
              "      display:flex;\n",
              "      flex-wrap:wrap;\n",
              "      gap: 12px;\n",
              "    }\n",
              "\n",
              "    .colab-df-convert {\n",
              "      background-color: #E8F0FE;\n",
              "      border: none;\n",
              "      border-radius: 50%;\n",
              "      cursor: pointer;\n",
              "      display: none;\n",
              "      fill: #1967D2;\n",
              "      height: 32px;\n",
              "      padding: 0 0 0 0;\n",
              "      width: 32px;\n",
              "    }\n",
              "\n",
              "    .colab-df-convert:hover {\n",
              "      background-color: #E2EBFA;\n",
              "      box-shadow: 0px 1px 2px rgba(60, 64, 67, 0.3), 0px 1px 3px 1px rgba(60, 64, 67, 0.15);\n",
              "      fill: #174EA6;\n",
              "    }\n",
              "\n",
              "    [theme=dark] .colab-df-convert {\n",
              "      background-color: #3B4455;\n",
              "      fill: #D2E3FC;\n",
              "    }\n",
              "\n",
              "    [theme=dark] .colab-df-convert:hover {\n",
              "      background-color: #434B5C;\n",
              "      box-shadow: 0px 1px 3px 1px rgba(0, 0, 0, 0.15);\n",
              "      filter: drop-shadow(0px 1px 2px rgba(0, 0, 0, 0.3));\n",
              "      fill: #FFFFFF;\n",
              "    }\n",
              "  </style>\n",
              "\n",
              "      <script>\n",
              "        const buttonEl =\n",
              "          document.querySelector('#df-23bd106b-ca11-43c4-a112-1e3f612deb56 button.colab-df-convert');\n",
              "        buttonEl.style.display =\n",
              "          google.colab.kernel.accessAllowed ? 'block' : 'none';\n",
              "\n",
              "        async function convertToInteractive(key) {\n",
              "          const element = document.querySelector('#df-23bd106b-ca11-43c4-a112-1e3f612deb56');\n",
              "          const dataTable =\n",
              "            await google.colab.kernel.invokeFunction('convertToInteractive',\n",
              "                                                     [key], {});\n",
              "          if (!dataTable) return;\n",
              "\n",
              "          const docLinkHtml = 'Like what you see? Visit the ' +\n",
              "            '<a target=\"_blank\" href=https://colab.research.google.com/notebooks/data_table.ipynb>data table notebook</a>'\n",
              "            + ' to learn more about interactive tables.';\n",
              "          element.innerHTML = '';\n",
              "          dataTable['output_type'] = 'display_data';\n",
              "          await google.colab.output.renderOutput(dataTable, element);\n",
              "          const docLink = document.createElement('div');\n",
              "          docLink.innerHTML = docLinkHtml;\n",
              "          element.appendChild(docLink);\n",
              "        }\n",
              "      </script>\n",
              "    </div>\n",
              "  </div>\n",
              "  "
            ]
          },
          "metadata": {},
          "execution_count": 359
        }
      ]
    },
    {
      "cell_type": "code",
      "source": [
        "data[['Pregnancies', 'SkinThickness', 'Insulin']] = data[['Pregnancies', 'SkinThickness', 'Insulin']].fillna(data[['Pregnancies', 'SkinThickness', 'Insulin']].mean())\n",
        "data.head()"
      ],
      "metadata": {
        "colab": {
          "base_uri": "https://localhost:8080/",
          "height": 206
        },
        "id": "Od2NK1Ep8j45",
        "outputId": "e9ea8180-4870-4ca4-bd4d-4baa6b7776af"
      },
      "execution_count": null,
      "outputs": [
        {
          "output_type": "execute_result",
          "data": {
            "text/plain": [
              "   Pregnancies  Glucose  BloodPressure  SkinThickness     Insulin   BMI  \\\n",
              "0     6.000000      148             72       35.00000  155.548223  33.6   \n",
              "1     1.000000       85             66       29.00000  155.548223  26.6   \n",
              "2     8.000000      183             64       29.15342  155.548223  23.3   \n",
              "3     1.000000       89             66       23.00000   94.000000  28.1   \n",
              "4     4.494673      137             40       35.00000  168.000000  43.1   \n",
              "\n",
              "   DiabetesPedigreeFunction  Age  Outcome  \n",
              "0                     0.627   50        1  \n",
              "1                     0.351   31        0  \n",
              "2                     0.672   32        1  \n",
              "3                     0.167   21        0  \n",
              "4                     2.288   33        1  "
            ],
            "text/html": [
              "\n",
              "  <div id=\"df-26a784fa-fdf2-407d-b4a0-17ef3abd9761\">\n",
              "    <div class=\"colab-df-container\">\n",
              "      <div>\n",
              "<style scoped>\n",
              "    .dataframe tbody tr th:only-of-type {\n",
              "        vertical-align: middle;\n",
              "    }\n",
              "\n",
              "    .dataframe tbody tr th {\n",
              "        vertical-align: top;\n",
              "    }\n",
              "\n",
              "    .dataframe thead th {\n",
              "        text-align: right;\n",
              "    }\n",
              "</style>\n",
              "<table border=\"1\" class=\"dataframe\">\n",
              "  <thead>\n",
              "    <tr style=\"text-align: right;\">\n",
              "      <th></th>\n",
              "      <th>Pregnancies</th>\n",
              "      <th>Glucose</th>\n",
              "      <th>BloodPressure</th>\n",
              "      <th>SkinThickness</th>\n",
              "      <th>Insulin</th>\n",
              "      <th>BMI</th>\n",
              "      <th>DiabetesPedigreeFunction</th>\n",
              "      <th>Age</th>\n",
              "      <th>Outcome</th>\n",
              "    </tr>\n",
              "  </thead>\n",
              "  <tbody>\n",
              "    <tr>\n",
              "      <th>0</th>\n",
              "      <td>6.000000</td>\n",
              "      <td>148</td>\n",
              "      <td>72</td>\n",
              "      <td>35.00000</td>\n",
              "      <td>155.548223</td>\n",
              "      <td>33.6</td>\n",
              "      <td>0.627</td>\n",
              "      <td>50</td>\n",
              "      <td>1</td>\n",
              "    </tr>\n",
              "    <tr>\n",
              "      <th>1</th>\n",
              "      <td>1.000000</td>\n",
              "      <td>85</td>\n",
              "      <td>66</td>\n",
              "      <td>29.00000</td>\n",
              "      <td>155.548223</td>\n",
              "      <td>26.6</td>\n",
              "      <td>0.351</td>\n",
              "      <td>31</td>\n",
              "      <td>0</td>\n",
              "    </tr>\n",
              "    <tr>\n",
              "      <th>2</th>\n",
              "      <td>8.000000</td>\n",
              "      <td>183</td>\n",
              "      <td>64</td>\n",
              "      <td>29.15342</td>\n",
              "      <td>155.548223</td>\n",
              "      <td>23.3</td>\n",
              "      <td>0.672</td>\n",
              "      <td>32</td>\n",
              "      <td>1</td>\n",
              "    </tr>\n",
              "    <tr>\n",
              "      <th>3</th>\n",
              "      <td>1.000000</td>\n",
              "      <td>89</td>\n",
              "      <td>66</td>\n",
              "      <td>23.00000</td>\n",
              "      <td>94.000000</td>\n",
              "      <td>28.1</td>\n",
              "      <td>0.167</td>\n",
              "      <td>21</td>\n",
              "      <td>0</td>\n",
              "    </tr>\n",
              "    <tr>\n",
              "      <th>4</th>\n",
              "      <td>4.494673</td>\n",
              "      <td>137</td>\n",
              "      <td>40</td>\n",
              "      <td>35.00000</td>\n",
              "      <td>168.000000</td>\n",
              "      <td>43.1</td>\n",
              "      <td>2.288</td>\n",
              "      <td>33</td>\n",
              "      <td>1</td>\n",
              "    </tr>\n",
              "  </tbody>\n",
              "</table>\n",
              "</div>\n",
              "      <button class=\"colab-df-convert\" onclick=\"convertToInteractive('df-26a784fa-fdf2-407d-b4a0-17ef3abd9761')\"\n",
              "              title=\"Convert this dataframe to an interactive table.\"\n",
              "              style=\"display:none;\">\n",
              "        \n",
              "  <svg xmlns=\"http://www.w3.org/2000/svg\" height=\"24px\"viewBox=\"0 0 24 24\"\n",
              "       width=\"24px\">\n",
              "    <path d=\"M0 0h24v24H0V0z\" fill=\"none\"/>\n",
              "    <path d=\"M18.56 5.44l.94 2.06.94-2.06 2.06-.94-2.06-.94-.94-2.06-.94 2.06-2.06.94zm-11 1L8.5 8.5l.94-2.06 2.06-.94-2.06-.94L8.5 2.5l-.94 2.06-2.06.94zm10 10l.94 2.06.94-2.06 2.06-.94-2.06-.94-.94-2.06-.94 2.06-2.06.94z\"/><path d=\"M17.41 7.96l-1.37-1.37c-.4-.4-.92-.59-1.43-.59-.52 0-1.04.2-1.43.59L10.3 9.45l-7.72 7.72c-.78.78-.78 2.05 0 2.83L4 21.41c.39.39.9.59 1.41.59.51 0 1.02-.2 1.41-.59l7.78-7.78 2.81-2.81c.8-.78.8-2.07 0-2.86zM5.41 20L4 18.59l7.72-7.72 1.47 1.35L5.41 20z\"/>\n",
              "  </svg>\n",
              "      </button>\n",
              "      \n",
              "  <style>\n",
              "    .colab-df-container {\n",
              "      display:flex;\n",
              "      flex-wrap:wrap;\n",
              "      gap: 12px;\n",
              "    }\n",
              "\n",
              "    .colab-df-convert {\n",
              "      background-color: #E8F0FE;\n",
              "      border: none;\n",
              "      border-radius: 50%;\n",
              "      cursor: pointer;\n",
              "      display: none;\n",
              "      fill: #1967D2;\n",
              "      height: 32px;\n",
              "      padding: 0 0 0 0;\n",
              "      width: 32px;\n",
              "    }\n",
              "\n",
              "    .colab-df-convert:hover {\n",
              "      background-color: #E2EBFA;\n",
              "      box-shadow: 0px 1px 2px rgba(60, 64, 67, 0.3), 0px 1px 3px 1px rgba(60, 64, 67, 0.15);\n",
              "      fill: #174EA6;\n",
              "    }\n",
              "\n",
              "    [theme=dark] .colab-df-convert {\n",
              "      background-color: #3B4455;\n",
              "      fill: #D2E3FC;\n",
              "    }\n",
              "\n",
              "    [theme=dark] .colab-df-convert:hover {\n",
              "      background-color: #434B5C;\n",
              "      box-shadow: 0px 1px 3px 1px rgba(0, 0, 0, 0.15);\n",
              "      filter: drop-shadow(0px 1px 2px rgba(0, 0, 0, 0.3));\n",
              "      fill: #FFFFFF;\n",
              "    }\n",
              "  </style>\n",
              "\n",
              "      <script>\n",
              "        const buttonEl =\n",
              "          document.querySelector('#df-26a784fa-fdf2-407d-b4a0-17ef3abd9761 button.colab-df-convert');\n",
              "        buttonEl.style.display =\n",
              "          google.colab.kernel.accessAllowed ? 'block' : 'none';\n",
              "\n",
              "        async function convertToInteractive(key) {\n",
              "          const element = document.querySelector('#df-26a784fa-fdf2-407d-b4a0-17ef3abd9761');\n",
              "          const dataTable =\n",
              "            await google.colab.kernel.invokeFunction('convertToInteractive',\n",
              "                                                     [key], {});\n",
              "          if (!dataTable) return;\n",
              "\n",
              "          const docLinkHtml = 'Like what you see? Visit the ' +\n",
              "            '<a target=\"_blank\" href=https://colab.research.google.com/notebooks/data_table.ipynb>data table notebook</a>'\n",
              "            + ' to learn more about interactive tables.';\n",
              "          element.innerHTML = '';\n",
              "          dataTable['output_type'] = 'display_data';\n",
              "          await google.colab.output.renderOutput(dataTable, element);\n",
              "          const docLink = document.createElement('div');\n",
              "          docLink.innerHTML = docLinkHtml;\n",
              "          element.appendChild(docLink);\n",
              "        }\n",
              "      </script>\n",
              "    </div>\n",
              "  </div>\n",
              "  "
            ]
          },
          "metadata": {},
          "execution_count": 360
        }
      ]
    },
    {
      "cell_type": "code",
      "source": [
        "for i in data.columns:\n",
        "  temp = count_zero_num(i)\n",
        "  print(f'{i}:\\n{temp}\\n')"
      ],
      "metadata": {
        "colab": {
          "base_uri": "https://localhost:8080/"
        },
        "id": "vMepzHVM_RM7",
        "outputId": "b9d66723-0054-405b-90d2-fa33ed1e3c2c"
      },
      "execution_count": null,
      "outputs": [
        {
          "output_type": "stream",
          "name": "stdout",
          "text": [
            "Pregnancies:\n",
            "0\n",
            "\n",
            "Glucose:\n",
            "5\n",
            "\n",
            "BloodPressure:\n",
            "35\n",
            "\n",
            "SkinThickness:\n",
            "0\n",
            "\n",
            "Insulin:\n",
            "0\n",
            "\n",
            "BMI:\n",
            "11\n",
            "\n",
            "DiabetesPedigreeFunction:\n",
            "0\n",
            "\n",
            "Age:\n",
            "0\n",
            "\n",
            "Outcome:\n",
            "500\n",
            "\n"
          ]
        }
      ]
    },
    {
      "cell_type": "code",
      "source": [
        "# Normalize the data\n",
        "scaler = StandardScaler()\n",
        "X = scaler.fit_transform(data.drop('Outcome',axis = 1))\n",
        "y = data['Outcome']\n",
        "X_train, X_test, y_train, y_test = train_test_split(X, y, test_size=0.2)"
      ],
      "metadata": {
        "id": "mtrEBvxJ_hKw"
      },
      "execution_count": null,
      "outputs": []
    },
    {
      "cell_type": "code",
      "source": [
        "# 將數據轉換為 PyTorch 張量\n",
        "X_train = torch.tensor(X_train, dtype=torch.float32)\n",
        "X_test = torch.tensor(X_test, dtype=torch.float32)\n",
        "y_train = torch.tensor(y_train.values, dtype=torch.float32)\n",
        "y_test = torch.tensor(y_test.values, dtype=torch.float32)"
      ],
      "metadata": {
        "id": "bzwZ0mtm_k1b"
      },
      "execution_count": null,
      "outputs": []
    },
    {
      "cell_type": "code",
      "source": [
        "from collections import OrderedDict\n",
        "# Define 2-layer neural network\n",
        "model_EB_LG = torch.nn.Sequential(OrderedDict([\n",
        "    ('fc1', torch.nn.Linear(D_in, H)),\n",
        "    ('relu', torch.nn.ReLU()),\n",
        "    ('output', torch.nn.Linear(H, D_out))\n",
        "])\n",
        ")\n",
        "\n",
        "# 損失函數和learning rate\n",
        "criterion = nn.BCEWithLogitsLoss()  # Use BCEWithLogitsLoss for binary classification without sigmoid\n",
        "optimizer = optim.Adam(model_EB_LG.parameters(), lr=learning_rate)\n",
        "\n",
        "train_losses = []\n",
        "\n",
        "# Train the network\n",
        "loss = float('Inf')\n",
        "start_time = time.time()\n",
        "for epoch in range(epoch_bound):\n",
        "  if loss > lg:\n",
        "\n",
        "    output = model_EB_LG(X_train)\n",
        "    loss = criterion(output.view(-1), y_train)\n",
        "\n",
        "    optimizer.zero_grad()\n",
        "    loss.backward()\n",
        "    optimizer.step()\n",
        "\n",
        "    # Collect the training loss values in list\n",
        "    train_losses.append(loss.item())\n",
        "  else:\n",
        "    break\n",
        "\n",
        "\n",
        "end_time = time.time()\n",
        "duration = end_time - start_time\n",
        "print(f\"Training took {duration} seconds.\")\n",
        "print()\n",
        "if epoch+1 < epoch_bound:\n",
        "  print('Acceptable, Epoch {}, Loss: {}'.format(epoch+1, loss.item()))\n",
        "else:\n",
        "  print('Unacceptable, reach epochs {} but loss > {}.\\nEpoch {}, Loss: {}'.format(epoch_bound, lg, epoch+1, loss.item()))\n",
        "\n"
      ],
      "metadata": {
        "colab": {
          "base_uri": "https://localhost:8080/"
        },
        "id": "U4gKrNt3_Ulk",
        "outputId": "89f0e7a9-dc44-4f75-ad52-08465a22d4b4"
      },
      "execution_count": null,
      "outputs": [
        {
          "output_type": "stream",
          "name": "stdout",
          "text": [
            "Training took 3.5471599102020264 seconds.\n",
            "\n",
            "Unacceptable, reach epochs 5000 but loss > 0.32.\n",
            "Epoch 5000, Loss: 0.35440340638160706\n"
          ]
        }
      ]
    },
    {
      "cell_type": "code",
      "source": [
        "y_pred = model_EB_LG(X_test)\n",
        "\n",
        "# Convert predicted probabilities to class labels\n",
        "y_pred_labels = torch.round(torch.sigmoid(y_pred))\n",
        "\n",
        "# Calculate accuracy\n",
        "total = len(y_test)\n",
        "correct = 0\n",
        "for i in range(len(y_pred_labels)):\n",
        "  if y_pred_labels[i] == y_test[i]:\n",
        "    correct += 1\n",
        "accuracy = (correct / total) * 100\n",
        "\n",
        "print(f\"Accuracy: {accuracy}\")"
      ],
      "metadata": {
        "colab": {
          "base_uri": "https://localhost:8080/"
        },
        "id": "JJYNrWecncXQ",
        "outputId": "17d81c34-ed99-48d0-abd5-21f972561e4c"
      },
      "execution_count": null,
      "outputs": [
        {
          "output_type": "stream",
          "name": "stdout",
          "text": [
            "Accuracy: 72.07792207792207\n"
          ]
        }
      ]
    },
    {
      "cell_type": "markdown",
      "source": [
        "## Find unacceptable cases\n",
        "Two-class classification application\n",
        "Use learing_goal_2 :\n",
        "\n",
        "\n",
        "1.   If f(x,w) ≥ 𝛆, label=1\n",
        "2.   If f(x,w) ≤ -𝛆, label=0\n",
        "3.   If 𝛆 < f(x,w) < 1-𝛆, then x unknown\n",
        "\n"
      ],
      "metadata": {
        "id": "AbDdE3IPnsfb"
      }
    },
    {
      "cell_type": "code",
      "source": [
        "𝛆 = 2.5\n",
        "acceptable = []\n",
        "unacceptable = []\n",
        "acceptable_idx = []\n",
        "unacceptable_idx = []\n",
        "unknown = []\n",
        "unknown_idx = []\n",
        "for i in range(len(X_train)):\n",
        "  output = model_EB_LG(X_train[i])\n",
        "  if output >= 𝛆:\n",
        "    if torch.round(torch.sigmoid(output)) == y_train[i]:\n",
        "      acceptable.append(X_train[i])\n",
        "      acceptable_idx.append(i)\n",
        "    else:\n",
        "      unacceptable.append(X_train[i])\n",
        "      unacceptable_idx.append(i)\n",
        "  elif output <= -𝛆:\n",
        "    if torch.round(torch.sigmoid(output)) == y_train[i]:\n",
        "      acceptable.append(X_train[i])\n",
        "      acceptable_idx.append(i)\n",
        "    else:\n",
        "      unacceptable.append(X_train[i])\n",
        "      unacceptable_idx.append(i)\n",
        "  else:\n",
        "    unknown.append(X_train[i])\n",
        "    unknown_idx.append(i)\n",
        "print(len(unacceptable))"
      ],
      "metadata": {
        "colab": {
          "base_uri": "https://localhost:8080/"
        },
        "id": "_SlwJyYXnoYf",
        "outputId": "cca1ef37-9fd2-48f3-ade0-17c837754067"
      },
      "execution_count": null,
      "outputs": [
        {
          "output_type": "stream",
          "name": "stdout",
          "text": [
            "6\n"
          ]
        }
      ]
    },
    {
      "cell_type": "code",
      "source": [
        "unacceptable_idx"
      ],
      "metadata": {
        "id": "wJoiiV0BQvq1",
        "colab": {
          "base_uri": "https://localhost:8080/"
        },
        "outputId": "68d83b2b-d2e6-47e4-d497-0ec775bcc102"
      },
      "execution_count": null,
      "outputs": [
        {
          "output_type": "execute_result",
          "data": {
            "text/plain": [
              "[46, 200, 445, 528, 542, 563]"
            ]
          },
          "metadata": {},
          "execution_count": 368
        }
      ]
    },
    {
      "cell_type": "code",
      "source": [
        "len(X_train) == len(unknown)+len(acceptable)+len(unacceptable)"
      ],
      "metadata": {
        "colab": {
          "base_uri": "https://localhost:8080/"
        },
        "id": "t3qrZtiGMMlT",
        "outputId": "592e4877-b12b-403b-b0db-14b68616df9d"
      },
      "execution_count": null,
      "outputs": [
        {
          "output_type": "execute_result",
          "data": {
            "text/plain": [
              "True"
            ]
          },
          "metadata": {},
          "execution_count": 369
        }
      ]
    },
    {
      "cell_type": "code",
      "source": [
        "len(unknown)"
      ],
      "metadata": {
        "colab": {
          "base_uri": "https://localhost:8080/"
        },
        "id": "M4fJE0gbYuUM",
        "outputId": "09773a02-dee2-45bd-9a68-ba1ce140ea66"
      },
      "execution_count": null,
      "outputs": [
        {
          "output_type": "execute_result",
          "data": {
            "text/plain": [
              "366"
            ]
          },
          "metadata": {},
          "execution_count": 370
        }
      ]
    },
    {
      "cell_type": "markdown",
      "source": [
        "## Isolating_Ri_ZG"
      ],
      "metadata": {
        "id": "wSZivAgSE-Ih"
      }
    },
    {
      "cell_type": "code",
      "source": [
        "# random generate gama (8-dimensional tensor)\n",
        "𝛾 = np.random.rand(8)\n",
        "k = unacceptable[0]\n",
        "for i in acceptable:\n",
        "  if np.dot(𝛾, (i-k)) == 0:\n",
        "    print('unacceptable 𝛾')\n",
        "    break\n",
        "print(f'This 𝛾={𝛾} is acceptable')"
      ],
      "metadata": {
        "colab": {
          "base_uri": "https://localhost:8080/"
        },
        "id": "yWMSHQ9gFHMW",
        "outputId": "1b361b55-3fe3-48c6-dfaa-86047e75b5e5"
      },
      "execution_count": null,
      "outputs": [
        {
          "output_type": "stream",
          "name": "stdout",
          "text": [
            "This 𝛾=[0.61858168 0.31749122 0.58855339 0.28924314 0.79256803 0.10949156\n",
            " 0.59944026 0.35880042] is acceptable\n"
          ]
        }
      ]
    },
    {
      "cell_type": "code",
      "source": [
        "type(𝛾)"
      ],
      "metadata": {
        "colab": {
          "base_uri": "https://localhost:8080/"
        },
        "id": "VIg_2B00LpCq",
        "outputId": "be4dbed0-cffd-473d-de1d-3d96e928dc05"
      },
      "execution_count": null,
      "outputs": [
        {
          "output_type": "execute_result",
          "data": {
            "text/plain": [
              "numpy.ndarray"
            ]
          },
          "metadata": {},
          "execution_count": 372
        }
      ]
    },
    {
      "cell_type": "code",
      "source": [
        "import random\n",
        "random_float = random.uniform(0, 1)\n",
        "print(random_float)"
      ],
      "metadata": {
        "colab": {
          "base_uri": "https://localhost:8080/"
        },
        "id": "ewsl4nusKX1y",
        "outputId": "2795170d-fe3d-4797-b3aa-b2732fb1d78c"
      },
      "execution_count": null,
      "outputs": [
        {
          "output_type": "stream",
          "name": "stdout",
          "text": [
            "0.568692343624573\n"
          ]
        }
      ]
    },
    {
      "cell_type": "code",
      "source": [
        "import random\n",
        "flag = 1\n",
        "while flag == 1:\n",
        "  𝜁 = random.uniform(0, 1)\n",
        "  for i in acceptable:\n",
        "    if (𝜁 + np.dot(𝛾, (i-k)))*(𝜁 - np.dot(𝛾, (i-k))) >= 0:\n",
        "      '''print('unacceptable 𝜁')'''\n",
        "      break\n",
        "    if i.tolist() == acceptable[-1].tolist():\n",
        "      print(f'This 𝜁={𝜁} is acceptable')\n",
        "      flag = 0"
      ],
      "metadata": {
        "colab": {
          "base_uri": "https://localhost:8080/"
        },
        "id": "neMeXMFNH3dH",
        "outputId": "ccec8869-3b97-4ab5-e848-d3a594f084ac"
      },
      "execution_count": null,
      "outputs": [
        {
          "output_type": "stream",
          "name": "stdout",
          "text": [
            "This 𝜁=2.0414911916954992e-05 is acceptable\n"
          ]
        }
      ]
    },
    {
      "cell_type": "markdown",
      "source": [
        "## 看要改幾個unacceptable case才可以達到learning goal"
      ],
      "metadata": {
        "id": "19pwu0kCZ1Zf"
      }
    },
    {
      "cell_type": "code",
      "source": [
        "while len(unacceptable_idx) > 0:\n",
        "  for i in range(0,1):\n",
        "    # 從第一個unacceptable case開始修正\n",
        "    new_node_weights = 𝛾 # 初始化input to hidden nodes的weights\n",
        "    new_node_bias_1 = 𝜁 - np.dot(𝛾, unacceptable[i])\n",
        "    new_node_bias_2 = -np.dot(𝛾, unacceptable[i])\n",
        "    new_node_bias_3 = -𝜁 - np.dot(𝛾, unacceptable[i])\n",
        "    # activation of i hidden node corresponding to x_k\n",
        "    hidden_layer_value = torch.matmul(unacceptable[0], model_EB_LG.fc1.weight.T)\n",
        "    hidden_layer_Relu = torch.where(hidden_layer_value >= 0, hidden_layer_value, torch.zeros_like(hidden_layer_value)) # ReLU\n",
        "    new_node_output_weights_1 = (y_train[unacceptable_idx[i]] - model_EB_LG.output.bias.detach().numpy() - np.dot(model_EB_LG.output.weight.detach().numpy(), hidden_layer_Relu.detach().numpy().T))/𝜁\n",
        "    new_node_output_weights_2 = (-2*(y_train[unacceptable_idx[i]] - model_EB_LG.output.bias.detach().numpy() - np.dot(model_EB_LG.output.weight.detach().numpy(), hidden_layer_Relu.detach().numpy().T)))/𝜁\n",
        "    new_node_output_weights_3 = (y_train[unacceptable_idx[i]] - model_EB_LG.output.bias.detach().numpy() - np.dot(model_EB_LG.output.weight.detach().numpy(), hidden_layer_Relu.detach().numpy().T))/𝜁\n",
        "    '''print(new_node_weights)\n",
        "    print(new_node_bias)\n",
        "    print(new_node_output_weights)'''\n",
        "\n",
        "    # 手動新增hidden node按照數學公式\n",
        "    hidden_layer_params = model_EB_LG.fc1.weight.detach().numpy()\n",
        "    hidden_layer_params = np.vstack((hidden_layer_params, new_node_weights))\n",
        "    hidden_layer_params = np.vstack((hidden_layer_params, new_node_weights))\n",
        "    hidden_layer_params = np.vstack((hidden_layer_params, new_node_weights))\n",
        "    '''print(hidden_layer_params)'''\n",
        "    bias_matrix = model_EB_LG.fc1.bias.detach().numpy()\n",
        "    new_bias = np.append(bias_matrix, new_node_bias_1)\n",
        "    new_bias = np.append(new_bias, new_node_bias_2)\n",
        "    new_bias = np.append(new_bias, new_node_bias_3)\n",
        "    '''print(new_bias)'''\n",
        "    weight_matrix_2 = model_EB_LG.output.weight.detach().numpy()\n",
        "    modified_weight_matrix_2 = np.append(weight_matrix_2[0], new_node_output_weights_1)\n",
        "    modified_weight_matrix_2 = np.append(modified_weight_matrix_2, new_node_output_weights_2)\n",
        "    modified_weight_matrix_2 = np.append(modified_weight_matrix_2, new_node_output_weights_3)\n",
        "    # Get the number of hidden nodes in the second layer\n",
        "    h = model_EB_LG.fc1.bias.shape\n",
        "    updated_weight_matrix_2 = np.empty((1,h[0]+(i+1)*3))\n",
        "    updated_weight_matrix_2[0] = modified_weight_matrix_2\n",
        "    '''print(updated_weight_matrix_2)'''\n",
        "    # 將自訂的權重和偏差儲存在模型中\n",
        "    model_EB_LG.fc1.weight = nn.Parameter(torch.from_numpy(hidden_layer_params).type(torch.Tensor))\n",
        "    model_EB_LG.fc1.bias = nn.Parameter(torch.from_numpy(new_bias).type(torch.Tensor))\n",
        "    model_EB_LG.output.weight = nn.Parameter(torch.from_numpy(updated_weight_matrix_2).type(torch.Tensor))\n",
        "\n",
        "    print(f'調整第{i+1}個unacceptable case後的parameters setting')\n",
        "    for name, param in model_EB_LG.named_parameters():\n",
        "      print(name, param)\n",
        "    output = model_EB_LG(X_train)\n",
        "    loss = criterion(output.view(-1), y_train)\n",
        "    print()\n",
        "    print('loss = {}'.format(loss))\n",
        "    print('==========================================================================')\n",
        "\n",
        "    if loss <= lg:\n",
        "      print('Acceptable model')\n",
        "      break\n",
        "    else:\n",
        "      print('Fail')\n",
        "\n",
        "    acceptable = []\n",
        "    unacceptable = []\n",
        "    acceptable_idx = []\n",
        "    unacceptable_idx = []\n",
        "    unknown = []\n",
        "    unknown_idx = []\n",
        "    for i in range(len(X_train)):\n",
        "      output = model_EB_LG(X_train[i])\n",
        "      if output >= 𝛆:\n",
        "        if torch.round(torch.sigmoid(output)) == y_train[i]:\n",
        "          acceptable.append(X_train[i])\n",
        "          acceptable_idx.append(i)\n",
        "        else:\n",
        "          unacceptable.append(X_train[i])\n",
        "          unacceptable_idx.append(i)\n",
        "      elif output <= -𝛆:\n",
        "        if torch.round(torch.sigmoid(output)) == y_train[i]:\n",
        "          acceptable.append(X_train[i])\n",
        "          acceptable_idx.append(i)\n",
        "        else:\n",
        "          unacceptable.append(X_train[i])\n",
        "          unacceptable_idx.append(i)\n",
        "      else:\n",
        "        unknown.append(X_train[i])\n",
        "        unknown_idx.append(i)\n",
        "    print('unacceptable cases count:',len(unacceptable))\n",
        "    print(unacceptable_idx)\n",
        "    print()"
      ],
      "metadata": {
        "colab": {
          "base_uri": "https://localhost:8080/"
        },
        "id": "oyucP1zzZ0yh",
        "outputId": "93cca477-26fa-4f66-e0c1-90a74978690a"
      },
      "execution_count": null,
      "outputs": [
        {
          "output_type": "stream",
          "name": "stdout",
          "text": [
            "調整第1個unacceptable case後的parameters setting\n",
            "fc1.weight Parameter containing:\n",
            "tensor([[ 1.6545,  0.2266, -0.2436,  1.1326,  1.8542, -0.9023,  0.3489, -1.3881],\n",
            "        [-0.2383, -0.2281, -0.3418, -0.2723,  0.5003,  0.2720, -0.2217, -1.1496],\n",
            "        [ 0.5796,  0.3203, -0.8478,  1.3130, -2.1655,  0.1488, -0.5279,  0.7556],\n",
            "        [ 0.0089, -0.5108, -0.4134,  0.8098, -0.9616, -0.4552,  0.0476, -0.4634],\n",
            "        [ 0.6121,  0.2196,  0.5672,  1.0401,  1.8232, -0.5801, -0.2609, -2.1568],\n",
            "        [-1.0099,  0.2423,  0.4430, -0.3922, -0.2467,  0.2342, -0.5985, -0.4662],\n",
            "        [-1.0488,  0.9809,  0.2157,  0.1133,  0.0317,  0.3678, -0.8338, -0.7840],\n",
            "        [ 0.4011,  0.1203, -0.8790,  1.5036, -0.9759, -0.1380,  0.3679, -0.3186],\n",
            "        [ 0.1670, -0.5466,  0.8542, -0.5203, -0.0713, -0.7620,  0.0515,  0.0359],\n",
            "        [-0.2758, -0.3958, -0.8232, -0.7038,  0.0147, -0.4219,  0.1434,  0.0926],\n",
            "        [-1.1390,  0.4951,  0.0478,  0.1154, -0.9939, -0.5608, -0.2536, -0.4804],\n",
            "        [ 0.6186,  0.3175,  0.5886,  0.2892,  0.7926,  0.1095,  0.5994,  0.3588],\n",
            "        [ 0.6186,  0.3175,  0.5886,  0.2892,  0.7926,  0.1095,  0.5994,  0.3588],\n",
            "        [ 0.6186,  0.3175,  0.5886,  0.2892,  0.7926,  0.1095,  0.5994,  0.3588]],\n",
            "       requires_grad=True)\n",
            "fc1.bias Parameter containing:\n",
            "tensor([ 0.8495, -0.5695, -0.6598,  0.9233,  1.2937,  0.6195,  1.4286, -0.4615,\n",
            "        -0.7888, -0.2521, -0.3995,  0.6795,  0.6795,  0.6795],\n",
            "       requires_grad=True)\n",
            "output.weight Parameter containing:\n",
            "tensor([[ 1.3885e+00, -5.5582e-01, -1.1185e+00, -6.1116e-01, -1.7032e+00,\n",
            "         -1.3896e+00,  1.9621e+00,  1.2614e+00, -7.9181e-01, -1.0390e+00,\n",
            "         -1.1796e+00,  1.9346e+05, -3.8691e+05,  1.9346e+05]],\n",
            "       requires_grad=True)\n",
            "output.bias Parameter containing:\n",
            "tensor([-0.3442], requires_grad=True)\n",
            "\n",
            "loss = 0.35022813081741333\n",
            "==========================================================================\n",
            "Fail\n",
            "unacceptable cases count: 5\n",
            "[200, 445, 528, 542, 563]\n",
            "\n",
            "調整第1個unacceptable case後的parameters setting\n",
            "fc1.weight Parameter containing:\n",
            "tensor([[ 1.6545,  0.2266, -0.2436,  1.1326,  1.8542, -0.9023,  0.3489, -1.3881],\n",
            "        [-0.2383, -0.2281, -0.3418, -0.2723,  0.5003,  0.2720, -0.2217, -1.1496],\n",
            "        [ 0.5796,  0.3203, -0.8478,  1.3130, -2.1655,  0.1488, -0.5279,  0.7556],\n",
            "        [ 0.0089, -0.5108, -0.4134,  0.8098, -0.9616, -0.4552,  0.0476, -0.4634],\n",
            "        [ 0.6121,  0.2196,  0.5672,  1.0401,  1.8232, -0.5801, -0.2609, -2.1568],\n",
            "        [-1.0099,  0.2423,  0.4430, -0.3922, -0.2467,  0.2342, -0.5985, -0.4662],\n",
            "        [-1.0488,  0.9809,  0.2157,  0.1133,  0.0317,  0.3678, -0.8338, -0.7840],\n",
            "        [ 0.4011,  0.1203, -0.8790,  1.5036, -0.9759, -0.1380,  0.3679, -0.3186],\n",
            "        [ 0.1670, -0.5466,  0.8542, -0.5203, -0.0713, -0.7620,  0.0515,  0.0359],\n",
            "        [-0.2758, -0.3958, -0.8232, -0.7038,  0.0147, -0.4219,  0.1434,  0.0926],\n",
            "        [-1.1390,  0.4951,  0.0478,  0.1154, -0.9939, -0.5608, -0.2536, -0.4804],\n",
            "        [ 0.6186,  0.3175,  0.5886,  0.2892,  0.7926,  0.1095,  0.5994,  0.3588],\n",
            "        [ 0.6186,  0.3175,  0.5886,  0.2892,  0.7926,  0.1095,  0.5994,  0.3588],\n",
            "        [ 0.6186,  0.3175,  0.5886,  0.2892,  0.7926,  0.1095,  0.5994,  0.3588],\n",
            "        [ 0.6186,  0.3175,  0.5886,  0.2892,  0.7926,  0.1095,  0.5994,  0.3588],\n",
            "        [ 0.6186,  0.3175,  0.5886,  0.2892,  0.7926,  0.1095,  0.5994,  0.3588],\n",
            "        [ 0.6186,  0.3175,  0.5886,  0.2892,  0.7926,  0.1095,  0.5994,  0.3588]],\n",
            "       requires_grad=True)\n",
            "fc1.bias Parameter containing:\n",
            "tensor([ 0.8495, -0.5695, -0.6598,  0.9233,  1.2937,  0.6195,  1.4286, -0.4615,\n",
            "        -0.7888, -0.2521, -0.3995,  0.6795,  0.6795,  0.6795, -4.3432, -4.3432,\n",
            "        -4.3432], requires_grad=True)\n",
            "output.weight Parameter containing:\n",
            "tensor([[ 1.3885e+00, -5.5582e-01, -1.1185e+00, -6.1116e-01, -1.7032e+00,\n",
            "         -1.3896e+00,  1.9621e+00,  1.2614e+00, -7.9181e-01, -1.0390e+00,\n",
            "         -1.1796e+00,  1.9346e+05, -3.8691e+05,  1.9346e+05, -2.4554e+05,\n",
            "          4.9108e+05, -2.4554e+05]], requires_grad=True)\n",
            "output.bias Parameter containing:\n",
            "tensor([-0.3442], requires_grad=True)\n",
            "\n",
            "loss = 0.34440815448760986\n",
            "==========================================================================\n",
            "Fail\n",
            "unacceptable cases count: 4\n",
            "[445, 528, 542, 563]\n",
            "\n",
            "調整第1個unacceptable case後的parameters setting\n",
            "fc1.weight Parameter containing:\n",
            "tensor([[ 1.6545,  0.2266, -0.2436,  1.1326,  1.8542, -0.9023,  0.3489, -1.3881],\n",
            "        [-0.2383, -0.2281, -0.3418, -0.2723,  0.5003,  0.2720, -0.2217, -1.1496],\n",
            "        [ 0.5796,  0.3203, -0.8478,  1.3130, -2.1655,  0.1488, -0.5279,  0.7556],\n",
            "        [ 0.0089, -0.5108, -0.4134,  0.8098, -0.9616, -0.4552,  0.0476, -0.4634],\n",
            "        [ 0.6121,  0.2196,  0.5672,  1.0401,  1.8232, -0.5801, -0.2609, -2.1568],\n",
            "        [-1.0099,  0.2423,  0.4430, -0.3922, -0.2467,  0.2342, -0.5985, -0.4662],\n",
            "        [-1.0488,  0.9809,  0.2157,  0.1133,  0.0317,  0.3678, -0.8338, -0.7840],\n",
            "        [ 0.4011,  0.1203, -0.8790,  1.5036, -0.9759, -0.1380,  0.3679, -0.3186],\n",
            "        [ 0.1670, -0.5466,  0.8542, -0.5203, -0.0713, -0.7620,  0.0515,  0.0359],\n",
            "        [-0.2758, -0.3958, -0.8232, -0.7038,  0.0147, -0.4219,  0.1434,  0.0926],\n",
            "        [-1.1390,  0.4951,  0.0478,  0.1154, -0.9939, -0.5608, -0.2536, -0.4804],\n",
            "        [ 0.6186,  0.3175,  0.5886,  0.2892,  0.7926,  0.1095,  0.5994,  0.3588],\n",
            "        [ 0.6186,  0.3175,  0.5886,  0.2892,  0.7926,  0.1095,  0.5994,  0.3588],\n",
            "        [ 0.6186,  0.3175,  0.5886,  0.2892,  0.7926,  0.1095,  0.5994,  0.3588],\n",
            "        [ 0.6186,  0.3175,  0.5886,  0.2892,  0.7926,  0.1095,  0.5994,  0.3588],\n",
            "        [ 0.6186,  0.3175,  0.5886,  0.2892,  0.7926,  0.1095,  0.5994,  0.3588],\n",
            "        [ 0.6186,  0.3175,  0.5886,  0.2892,  0.7926,  0.1095,  0.5994,  0.3588],\n",
            "        [ 0.6186,  0.3175,  0.5886,  0.2892,  0.7926,  0.1095,  0.5994,  0.3588],\n",
            "        [ 0.6186,  0.3175,  0.5886,  0.2892,  0.7926,  0.1095,  0.5994,  0.3588],\n",
            "        [ 0.6186,  0.3175,  0.5886,  0.2892,  0.7926,  0.1095,  0.5994,  0.3588]],\n",
            "       requires_grad=True)\n",
            "fc1.bias Parameter containing:\n",
            "tensor([ 0.8495, -0.5695, -0.6598,  0.9233,  1.2937,  0.6195,  1.4286, -0.4615,\n",
            "        -0.7888, -0.2521, -0.3995,  0.6795,  0.6795,  0.6795, -4.3432, -4.3432,\n",
            "        -4.3432, -1.6462, -1.6462, -1.6462], requires_grad=True)\n",
            "output.weight Parameter containing:\n",
            "tensor([[ 1.3885e+00, -5.5582e-01, -1.1185e+00, -6.1116e-01, -1.7032e+00,\n",
            "         -1.3896e+00,  1.9621e+00,  1.2614e+00, -7.9181e-01, -1.0390e+00,\n",
            "         -1.1796e+00,  1.9346e+05, -3.8691e+05,  1.9346e+05, -2.4554e+05,\n",
            "          4.9108e+05, -2.4554e+05, -9.6850e+04,  1.9370e+05, -9.6850e+04]],\n",
            "       requires_grad=True)\n",
            "output.bias Parameter containing:\n",
            "tensor([-0.3442], requires_grad=True)\n",
            "\n",
            "loss = 0.34207093715667725\n",
            "==========================================================================\n",
            "Fail\n",
            "unacceptable cases count: 3\n",
            "[528, 542, 563]\n",
            "\n",
            "調整第1個unacceptable case後的parameters setting\n",
            "fc1.weight Parameter containing:\n",
            "tensor([[ 1.6545,  0.2266, -0.2436,  1.1326,  1.8542, -0.9023,  0.3489, -1.3881],\n",
            "        [-0.2383, -0.2281, -0.3418, -0.2723,  0.5003,  0.2720, -0.2217, -1.1496],\n",
            "        [ 0.5796,  0.3203, -0.8478,  1.3130, -2.1655,  0.1488, -0.5279,  0.7556],\n",
            "        [ 0.0089, -0.5108, -0.4134,  0.8098, -0.9616, -0.4552,  0.0476, -0.4634],\n",
            "        [ 0.6121,  0.2196,  0.5672,  1.0401,  1.8232, -0.5801, -0.2609, -2.1568],\n",
            "        [-1.0099,  0.2423,  0.4430, -0.3922, -0.2467,  0.2342, -0.5985, -0.4662],\n",
            "        [-1.0488,  0.9809,  0.2157,  0.1133,  0.0317,  0.3678, -0.8338, -0.7840],\n",
            "        [ 0.4011,  0.1203, -0.8790,  1.5036, -0.9759, -0.1380,  0.3679, -0.3186],\n",
            "        [ 0.1670, -0.5466,  0.8542, -0.5203, -0.0713, -0.7620,  0.0515,  0.0359],\n",
            "        [-0.2758, -0.3958, -0.8232, -0.7038,  0.0147, -0.4219,  0.1434,  0.0926],\n",
            "        [-1.1390,  0.4951,  0.0478,  0.1154, -0.9939, -0.5608, -0.2536, -0.4804],\n",
            "        [ 0.6186,  0.3175,  0.5886,  0.2892,  0.7926,  0.1095,  0.5994,  0.3588],\n",
            "        [ 0.6186,  0.3175,  0.5886,  0.2892,  0.7926,  0.1095,  0.5994,  0.3588],\n",
            "        [ 0.6186,  0.3175,  0.5886,  0.2892,  0.7926,  0.1095,  0.5994,  0.3588],\n",
            "        [ 0.6186,  0.3175,  0.5886,  0.2892,  0.7926,  0.1095,  0.5994,  0.3588],\n",
            "        [ 0.6186,  0.3175,  0.5886,  0.2892,  0.7926,  0.1095,  0.5994,  0.3588],\n",
            "        [ 0.6186,  0.3175,  0.5886,  0.2892,  0.7926,  0.1095,  0.5994,  0.3588],\n",
            "        [ 0.6186,  0.3175,  0.5886,  0.2892,  0.7926,  0.1095,  0.5994,  0.3588],\n",
            "        [ 0.6186,  0.3175,  0.5886,  0.2892,  0.7926,  0.1095,  0.5994,  0.3588],\n",
            "        [ 0.6186,  0.3175,  0.5886,  0.2892,  0.7926,  0.1095,  0.5994,  0.3588],\n",
            "        [ 0.6186,  0.3175,  0.5886,  0.2892,  0.7926,  0.1095,  0.5994,  0.3588],\n",
            "        [ 0.6186,  0.3175,  0.5886,  0.2892,  0.7926,  0.1095,  0.5994,  0.3588],\n",
            "        [ 0.6186,  0.3175,  0.5886,  0.2892,  0.7926,  0.1095,  0.5994,  0.3588]],\n",
            "       requires_grad=True)\n",
            "fc1.bias Parameter containing:\n",
            "tensor([ 0.8495, -0.5695, -0.6598,  0.9233,  1.2937,  0.6195,  1.4286, -0.4615,\n",
            "        -0.7888, -0.2521, -0.3995,  0.6795,  0.6795,  0.6795, -4.3432, -4.3432,\n",
            "        -4.3432, -1.6462, -1.6462, -1.6462, -0.4125, -0.4126, -0.4126],\n",
            "       requires_grad=True)\n",
            "output.weight Parameter containing:\n",
            "tensor([[ 1.3885e+00, -5.5582e-01, -1.1185e+00, -6.1116e-01, -1.7032e+00,\n",
            "         -1.3896e+00,  1.9621e+00,  1.2614e+00, -7.9181e-01, -1.0390e+00,\n",
            "         -1.1796e+00,  1.9346e+05, -3.8691e+05,  1.9346e+05, -2.4554e+05,\n",
            "          4.9108e+05, -2.4554e+05, -9.6850e+04,  1.9370e+05, -9.6850e+04,\n",
            "         -6.6375e+04,  1.3275e+05, -6.6375e+04]], requires_grad=True)\n",
            "output.bias Parameter containing:\n",
            "tensor([-0.3442], requires_grad=True)\n",
            "\n",
            "loss = 0.3385058343410492\n",
            "==========================================================================\n",
            "Fail\n",
            "unacceptable cases count: 2\n",
            "[542, 563]\n",
            "\n",
            "調整第1個unacceptable case後的parameters setting\n",
            "fc1.weight Parameter containing:\n",
            "tensor([[ 1.6545,  0.2266, -0.2436,  1.1326,  1.8542, -0.9023,  0.3489, -1.3881],\n",
            "        [-0.2383, -0.2281, -0.3418, -0.2723,  0.5003,  0.2720, -0.2217, -1.1496],\n",
            "        [ 0.5796,  0.3203, -0.8478,  1.3130, -2.1655,  0.1488, -0.5279,  0.7556],\n",
            "        [ 0.0089, -0.5108, -0.4134,  0.8098, -0.9616, -0.4552,  0.0476, -0.4634],\n",
            "        [ 0.6121,  0.2196,  0.5672,  1.0401,  1.8232, -0.5801, -0.2609, -2.1568],\n",
            "        [-1.0099,  0.2423,  0.4430, -0.3922, -0.2467,  0.2342, -0.5985, -0.4662],\n",
            "        [-1.0488,  0.9809,  0.2157,  0.1133,  0.0317,  0.3678, -0.8338, -0.7840],\n",
            "        [ 0.4011,  0.1203, -0.8790,  1.5036, -0.9759, -0.1380,  0.3679, -0.3186],\n",
            "        [ 0.1670, -0.5466,  0.8542, -0.5203, -0.0713, -0.7620,  0.0515,  0.0359],\n",
            "        [-0.2758, -0.3958, -0.8232, -0.7038,  0.0147, -0.4219,  0.1434,  0.0926],\n",
            "        [-1.1390,  0.4951,  0.0478,  0.1154, -0.9939, -0.5608, -0.2536, -0.4804],\n",
            "        [ 0.6186,  0.3175,  0.5886,  0.2892,  0.7926,  0.1095,  0.5994,  0.3588],\n",
            "        [ 0.6186,  0.3175,  0.5886,  0.2892,  0.7926,  0.1095,  0.5994,  0.3588],\n",
            "        [ 0.6186,  0.3175,  0.5886,  0.2892,  0.7926,  0.1095,  0.5994,  0.3588],\n",
            "        [ 0.6186,  0.3175,  0.5886,  0.2892,  0.7926,  0.1095,  0.5994,  0.3588],\n",
            "        [ 0.6186,  0.3175,  0.5886,  0.2892,  0.7926,  0.1095,  0.5994,  0.3588],\n",
            "        [ 0.6186,  0.3175,  0.5886,  0.2892,  0.7926,  0.1095,  0.5994,  0.3588],\n",
            "        [ 0.6186,  0.3175,  0.5886,  0.2892,  0.7926,  0.1095,  0.5994,  0.3588],\n",
            "        [ 0.6186,  0.3175,  0.5886,  0.2892,  0.7926,  0.1095,  0.5994,  0.3588],\n",
            "        [ 0.6186,  0.3175,  0.5886,  0.2892,  0.7926,  0.1095,  0.5994,  0.3588],\n",
            "        [ 0.6186,  0.3175,  0.5886,  0.2892,  0.7926,  0.1095,  0.5994,  0.3588],\n",
            "        [ 0.6186,  0.3175,  0.5886,  0.2892,  0.7926,  0.1095,  0.5994,  0.3588],\n",
            "        [ 0.6186,  0.3175,  0.5886,  0.2892,  0.7926,  0.1095,  0.5994,  0.3588],\n",
            "        [ 0.6186,  0.3175,  0.5886,  0.2892,  0.7926,  0.1095,  0.5994,  0.3588],\n",
            "        [ 0.6186,  0.3175,  0.5886,  0.2892,  0.7926,  0.1095,  0.5994,  0.3588],\n",
            "        [ 0.6186,  0.3175,  0.5886,  0.2892,  0.7926,  0.1095,  0.5994,  0.3588]],\n",
            "       requires_grad=True)\n",
            "fc1.bias Parameter containing:\n",
            "tensor([ 0.8495, -0.5695, -0.6598,  0.9233,  1.2937,  0.6195,  1.4286, -0.4615,\n",
            "        -0.7888, -0.2521, -0.3995,  0.6795,  0.6795,  0.6795, -4.3432, -4.3432,\n",
            "        -4.3432, -1.6462, -1.6462, -1.6462, -0.4125, -0.4126, -0.4126,  0.9772,\n",
            "         0.9772,  0.9772], requires_grad=True)\n",
            "output.weight Parameter containing:\n",
            "tensor([[ 1.3885e+00, -5.5582e-01, -1.1185e+00, -6.1116e-01, -1.7032e+00,\n",
            "         -1.3896e+00,  1.9621e+00,  1.2614e+00, -7.9181e-01, -1.0390e+00,\n",
            "         -1.1796e+00,  1.9346e+05, -3.8691e+05,  1.9346e+05, -2.4554e+05,\n",
            "          4.9108e+05, -2.4554e+05, -9.6850e+04,  1.9370e+05, -9.6850e+04,\n",
            "         -6.6375e+04,  1.3275e+05, -6.6375e+04,  2.5273e+05, -5.0546e+05,\n",
            "          2.5273e+05]], requires_grad=True)\n",
            "output.bias Parameter containing:\n",
            "tensor([-0.3442], requires_grad=True)\n",
            "\n",
            "loss = 0.33289825916290283\n",
            "==========================================================================\n",
            "Fail\n",
            "unacceptable cases count: 1\n",
            "[563]\n",
            "\n",
            "調整第1個unacceptable case後的parameters setting\n",
            "fc1.weight Parameter containing:\n",
            "tensor([[ 1.6545,  0.2266, -0.2436,  1.1326,  1.8542, -0.9023,  0.3489, -1.3881],\n",
            "        [-0.2383, -0.2281, -0.3418, -0.2723,  0.5003,  0.2720, -0.2217, -1.1496],\n",
            "        [ 0.5796,  0.3203, -0.8478,  1.3130, -2.1655,  0.1488, -0.5279,  0.7556],\n",
            "        [ 0.0089, -0.5108, -0.4134,  0.8098, -0.9616, -0.4552,  0.0476, -0.4634],\n",
            "        [ 0.6121,  0.2196,  0.5672,  1.0401,  1.8232, -0.5801, -0.2609, -2.1568],\n",
            "        [-1.0099,  0.2423,  0.4430, -0.3922, -0.2467,  0.2342, -0.5985, -0.4662],\n",
            "        [-1.0488,  0.9809,  0.2157,  0.1133,  0.0317,  0.3678, -0.8338, -0.7840],\n",
            "        [ 0.4011,  0.1203, -0.8790,  1.5036, -0.9759, -0.1380,  0.3679, -0.3186],\n",
            "        [ 0.1670, -0.5466,  0.8542, -0.5203, -0.0713, -0.7620,  0.0515,  0.0359],\n",
            "        [-0.2758, -0.3958, -0.8232, -0.7038,  0.0147, -0.4219,  0.1434,  0.0926],\n",
            "        [-1.1390,  0.4951,  0.0478,  0.1154, -0.9939, -0.5608, -0.2536, -0.4804],\n",
            "        [ 0.6186,  0.3175,  0.5886,  0.2892,  0.7926,  0.1095,  0.5994,  0.3588],\n",
            "        [ 0.6186,  0.3175,  0.5886,  0.2892,  0.7926,  0.1095,  0.5994,  0.3588],\n",
            "        [ 0.6186,  0.3175,  0.5886,  0.2892,  0.7926,  0.1095,  0.5994,  0.3588],\n",
            "        [ 0.6186,  0.3175,  0.5886,  0.2892,  0.7926,  0.1095,  0.5994,  0.3588],\n",
            "        [ 0.6186,  0.3175,  0.5886,  0.2892,  0.7926,  0.1095,  0.5994,  0.3588],\n",
            "        [ 0.6186,  0.3175,  0.5886,  0.2892,  0.7926,  0.1095,  0.5994,  0.3588],\n",
            "        [ 0.6186,  0.3175,  0.5886,  0.2892,  0.7926,  0.1095,  0.5994,  0.3588],\n",
            "        [ 0.6186,  0.3175,  0.5886,  0.2892,  0.7926,  0.1095,  0.5994,  0.3588],\n",
            "        [ 0.6186,  0.3175,  0.5886,  0.2892,  0.7926,  0.1095,  0.5994,  0.3588],\n",
            "        [ 0.6186,  0.3175,  0.5886,  0.2892,  0.7926,  0.1095,  0.5994,  0.3588],\n",
            "        [ 0.6186,  0.3175,  0.5886,  0.2892,  0.7926,  0.1095,  0.5994,  0.3588],\n",
            "        [ 0.6186,  0.3175,  0.5886,  0.2892,  0.7926,  0.1095,  0.5994,  0.3588],\n",
            "        [ 0.6186,  0.3175,  0.5886,  0.2892,  0.7926,  0.1095,  0.5994,  0.3588],\n",
            "        [ 0.6186,  0.3175,  0.5886,  0.2892,  0.7926,  0.1095,  0.5994,  0.3588],\n",
            "        [ 0.6186,  0.3175,  0.5886,  0.2892,  0.7926,  0.1095,  0.5994,  0.3588],\n",
            "        [ 0.6186,  0.3175,  0.5886,  0.2892,  0.7926,  0.1095,  0.5994,  0.3588],\n",
            "        [ 0.6186,  0.3175,  0.5886,  0.2892,  0.7926,  0.1095,  0.5994,  0.3588],\n",
            "        [ 0.6186,  0.3175,  0.5886,  0.2892,  0.7926,  0.1095,  0.5994,  0.3588]],\n",
            "       requires_grad=True)\n",
            "fc1.bias Parameter containing:\n",
            "tensor([ 0.8495, -0.5695, -0.6598,  0.9233,  1.2937,  0.6195,  1.4286, -0.4615,\n",
            "        -0.7888, -0.2521, -0.3995,  0.6795,  0.6795,  0.6795, -4.3432, -4.3432,\n",
            "        -4.3432, -1.6462, -1.6462, -1.6462, -0.4125, -0.4126, -0.4126,  0.9772,\n",
            "         0.9772,  0.9772,  2.4950,  2.4950,  2.4950], requires_grad=True)\n",
            "output.weight Parameter containing:\n",
            "tensor([[ 1.3885e+00, -5.5582e-01, -1.1185e+00, -6.1116e-01, -1.7032e+00,\n",
            "         -1.3896e+00,  1.9621e+00,  1.2614e+00, -7.9181e-01, -1.0390e+00,\n",
            "         -1.1796e+00,  1.9346e+05, -3.8691e+05,  1.9346e+05, -2.4554e+05,\n",
            "          4.9108e+05, -2.4554e+05, -9.6850e+04,  1.9370e+05, -9.6850e+04,\n",
            "         -6.6375e+04,  1.3275e+05, -6.6375e+04,  2.5273e+05, -5.0546e+05,\n",
            "          2.5273e+05,  3.3895e+05, -6.7790e+05,  3.3895e+05]],\n",
            "       requires_grad=True)\n",
            "output.bias Parameter containing:\n",
            "tensor([-0.3442], requires_grad=True)\n",
            "\n",
            "loss = 0.32779034972190857\n",
            "==========================================================================\n",
            "Fail\n",
            "unacceptable cases count: 0\n",
            "[]\n",
            "\n"
          ]
        }
      ]
    },
    {
      "cell_type": "markdown",
      "source": [
        "## X_text accuracy"
      ],
      "metadata": {
        "id": "fM-ERBgDkDSV"
      }
    },
    {
      "cell_type": "code",
      "source": [
        "y_pred = model_EB_LG(X_test)\n",
        "\n",
        "# Convert predicted probabilities to class labels\n",
        "y_pred_labels = torch.round(torch.sigmoid(y_pred))\n",
        "\n",
        "# Calculate accuracy\n",
        "total = len(y_test)\n",
        "correct = 0\n",
        "for i in range(len(y_pred_labels)):\n",
        "  if y_pred_labels[i] == y_test[i]:\n",
        "    correct += 1\n",
        "accuracy = (correct / total) * 100\n",
        "\n",
        "print(f\"Accuracy: {accuracy}\")\n"
      ],
      "metadata": {
        "colab": {
          "base_uri": "https://localhost:8080/"
        },
        "id": "ZcIwLxDZkFsk",
        "outputId": "4a1da474-3ee4-4abb-e3dd-6665f587478a"
      },
      "execution_count": null,
      "outputs": [
        {
          "output_type": "stream",
          "name": "stdout",
          "text": [
            "Accuracy: 72.07792207792207\n"
          ]
        }
      ]
    },
    {
      "cell_type": "markdown",
      "source": [
        "## Analogizing_Ri_LG2_SO_MU\n",
        "### 從第一個unacceptable case開始修正"
      ],
      "metadata": {
        "id": "Exn5zO0PLJXg"
      }
    },
    {
      "cell_type": "code",
      "source": [
        "for i in range(0,1):\n",
        "  # 從第一個unacceptable case開始修正\n",
        "  new_node_weights = 𝛾 # 初始化input to hidden nodes的weights\n",
        "  new_node_bias_1 = 𝜁 - np.dot(𝛾, unacceptable[i])\n",
        "  new_node_bias_2 = -np.dot(𝛾, unacceptable[i])\n",
        "  new_node_bias_3 = -𝜁 - np.dot(𝛾, unacceptable[i])\n",
        "  # activation of i hidden node corresponding to x_k\n",
        "  hidden_layer_value = torch.matmul(unacceptable[0], model_EB_LG.fc1.weight.T)\n",
        "  hidden_layer_Relu = torch.where(hidden_layer_value >= 0, hidden_layer_value, torch.zeros_like(hidden_layer_value)) # ReLU\n",
        "  new_node_output_weights_1 = (y_train[unacceptable_idx[i]] - model_EB_LG.output.bias.detach().numpy() - np.dot(model_EB_LG.output.weight.detach().numpy(), hidden_layer_Relu.detach().numpy().T))/𝜁\n",
        "  new_node_output_weights_2 = (-2*(y_train[unacceptable_idx[i]] - model_EB_LG.output.bias.detach().numpy() - np.dot(model_EB_LG.output.weight.detach().numpy(), hidden_layer_Relu.detach().numpy().T)))/𝜁\n",
        "  new_node_output_weights_3 = (y_train[unacceptable_idx[i]] - model_EB_LG.output.bias.detach().numpy() - np.dot(model_EB_LG.output.weight.detach().numpy(), hidden_layer_Relu.detach().numpy().T))/𝜁\n",
        "  '''print(new_node_weights)\n",
        "  print(new_node_bias)\n",
        "  print(new_node_output_weights)'''\n",
        "\n",
        "  # 手動新增hidden node按照數學公式\n",
        "  hidden_layer_params = model_EB_LG.fc1.weight.detach().numpy()\n",
        "  hidden_layer_params = np.vstack((hidden_layer_params, new_node_weights))\n",
        "  hidden_layer_params = np.vstack((hidden_layer_params, new_node_weights))\n",
        "  hidden_layer_params = np.vstack((hidden_layer_params, new_node_weights))\n",
        "  '''print(hidden_layer_params)'''\n",
        "  bias_matrix = model_EB_LG.fc1.bias.detach().numpy()\n",
        "  new_bias = np.append(bias_matrix, new_node_bias_1)\n",
        "  new_bias = np.append(new_bias, new_node_bias_2)\n",
        "  new_bias = np.append(new_bias, new_node_bias_3)\n",
        "  '''print(new_bias)'''\n",
        "  weight_matrix_2 = model_EB_LG.output.weight.detach().numpy()\n",
        "  modified_weight_matrix_2 = np.append(weight_matrix_2[0], new_node_output_weights_1)\n",
        "  modified_weight_matrix_2 = np.append(modified_weight_matrix_2, new_node_output_weights_2)\n",
        "  modified_weight_matrix_2 = np.append(modified_weight_matrix_2, new_node_output_weights_3)\n",
        "  updated_weight_matrix_2 = np.empty((1,H+(i+1)*3))\n",
        "  updated_weight_matrix_2[0] = modified_weight_matrix_2\n",
        "  '''print(updated_weight_matrix_2)'''\n",
        "  # 將自訂的權重和偏差儲存在模型中\n",
        "  model_EB_LG.fc1.weight = nn.Parameter(torch.from_numpy(hidden_layer_params).type(torch.Tensor))\n",
        "  model_EB_LG.fc1.bias = nn.Parameter(torch.from_numpy(new_bias).type(torch.Tensor))\n",
        "  model_EB_LG.output.weight = nn.Parameter(torch.from_numpy(updated_weight_matrix_2).type(torch.Tensor))\n",
        "\n",
        "  print(f'調整第{i+1}個unacceptable case後的parameters setting')\n",
        "  for name, param in model_EB_LG.named_parameters():\n",
        "    print(name, param)\n",
        "  output = model_EB_LG(X_train)\n",
        "  loss = criterion(output.view(-1), y_train)\n",
        "  print('\\n')\n",
        "  print('loss = {}'.format(loss))\n",
        "  print('==========================================================================')\n",
        "\n",
        "if loss <= lg:\n",
        "  print('Acceptable model')\n",
        "else:\n",
        "  print('Fail')"
      ],
      "metadata": {
        "id": "eM-u26cKLQJw"
      },
      "execution_count": null,
      "outputs": []
    },
    {
      "cell_type": "code",
      "source": [
        "acceptable = []\n",
        "unacceptable = []\n",
        "acceptable_idx = []\n",
        "unacceptable_idx = []\n",
        "unknown = []\n",
        "unknown_idx = []\n",
        "for i in range(len(X_train)):\n",
        "  output = model_EB_LG(X_train[i])\n",
        "  if output >= 𝛆:\n",
        "    if torch.round(torch.sigmoid(output)) == y_train[i]:\n",
        "      acceptable.append(X_train[i])\n",
        "      acceptable_idx.append(i)\n",
        "    else:\n",
        "      unacceptable.append(X_train[i])\n",
        "      unacceptable_idx.append(i)\n",
        "  elif output <= -𝛆:\n",
        "    if torch.round(torch.sigmoid(output)) == y_train[i]:\n",
        "      acceptable.append(X_train[i])\n",
        "      acceptable_idx.append(i)\n",
        "    else:\n",
        "      unacceptable.append(X_train[i])\n",
        "      unacceptable_idx.append(i)\n",
        "  else:\n",
        "    unknown.append(X_train[i])\n",
        "    unknown_idx.append(i)\n",
        "print(len(unacceptable))"
      ],
      "metadata": {
        "id": "U0sdsNmrQgQr"
      },
      "execution_count": null,
      "outputs": []
    },
    {
      "cell_type": "code",
      "source": [
        "unacceptable_idx"
      ],
      "metadata": {
        "id": "74CkcS5DQm3-"
      },
      "execution_count": null,
      "outputs": []
    },
    {
      "cell_type": "code",
      "source": [
        "acceptable = []\n",
        "unacceptable = []\n",
        "acceptable_idx = []\n",
        "unacceptable_idx = []\n",
        "unknown = []\n",
        "unknown_idx = []\n",
        "for i in range(len(X_train)):\n",
        "  output = model_EB_LG(X_train[i])\n",
        "  if output >= 𝛆:\n",
        "    if torch.round(torch.sigmoid(output)) == y_train[i]:\n",
        "      acceptable.append(X_train[i])\n",
        "      acceptable_idx.append(i)\n",
        "    else:\n",
        "      unacceptable.append(X_train[i])\n",
        "      unacceptable_idx.append(i)\n",
        "  elif output <= -𝛆:\n",
        "    if torch.round(torch.sigmoid(output)) == y_train[i]:\n",
        "      acceptable.append(X_train[i])\n",
        "      acceptable_idx.append(i)\n",
        "    else:\n",
        "      unacceptable.append(X_train[i])\n",
        "      unacceptable_idx.append(i)\n",
        "  else:\n",
        "    unknown.append(X_train[i])\n",
        "    unknown_idx.append(i)\n",
        "print(len(unacceptable))"
      ],
      "metadata": {
        "colab": {
          "base_uri": "https://localhost:8080/"
        },
        "id": "aNw4vCm3RFRz",
        "outputId": "5d4b8f1f-e729-432f-d8e6-0149da25eb4b"
      },
      "execution_count": null,
      "outputs": [
        {
          "output_type": "stream",
          "name": "stdout",
          "text": [
            "10\n"
          ]
        }
      ]
    },
    {
      "cell_type": "code",
      "source": [
        "unacceptable_idx"
      ],
      "metadata": {
        "colab": {
          "base_uri": "https://localhost:8080/"
        },
        "id": "FPbVhSPTRGE4",
        "outputId": "1361c23f-74b9-4a78-9695-cc9837fc0435"
      },
      "execution_count": null,
      "outputs": [
        {
          "output_type": "execute_result",
          "data": {
            "text/plain": [
              "[64, 115, 156, 316, 324, 335, 351, 441, 475, 491]"
            ]
          },
          "metadata": {},
          "execution_count": 37
        }
      ]
    },
    {
      "cell_type": "markdown",
      "source": [
        "### 用第二個unacceptable case修正model"
      ],
      "metadata": {
        "id": "RGZVbm1HQ2lA"
      }
    },
    {
      "cell_type": "code",
      "source": [
        "for i in range(0,1):\n",
        "  # 從第一個unacceptable case開始修正\n",
        "  new_node_weights = 𝛾 # 初始化input to hidden nodes的weights\n",
        "  new_node_bias_1 = 𝜁 - np.dot(𝛾, unacceptable[i])\n",
        "  new_node_bias_2 = -np.dot(𝛾, unacceptable[i])\n",
        "  new_node_bias_3 = -𝜁 - np.dot(𝛾, unacceptable[i])\n",
        "  # activation of i hidden node corresponding to x_k\n",
        "  hidden_layer_value = torch.matmul(unacceptable[0], model_EB_LG.fc1.weight.T)\n",
        "  hidden_layer_Relu = torch.where(hidden_layer_value >= 0, hidden_layer_value, torch.zeros_like(hidden_layer_value)) # ReLU\n",
        "  new_node_output_weights_1 = (y_train[unacceptable_idx[i]] - model_EB_LG.output.bias.detach().numpy() - np.dot(model_EB_LG.output.weight.detach().numpy(), hidden_layer_Relu.detach().numpy().T))/𝜁\n",
        "  new_node_output_weights_2 = (-2*(y_train[unacceptable_idx[i]] - model_EB_LG.output.bias.detach().numpy() - np.dot(model_EB_LG.output.weight.detach().numpy(), hidden_layer_Relu.detach().numpy().T)))/𝜁\n",
        "  new_node_output_weights_3 = (y_train[unacceptable_idx[i]] - model_EB_LG.output.bias.detach().numpy() - np.dot(model_EB_LG.output.weight.detach().numpy(), hidden_layer_Relu.detach().numpy().T))/𝜁\n",
        "  '''print(new_node_weights)\n",
        "  print(new_node_bias)\n",
        "  print(new_node_output_weights)'''\n",
        "\n",
        "  # 手動新增hidden node按照數學公式\n",
        "  hidden_layer_params = model_EB_LG.fc1.weight.detach().numpy()\n",
        "  hidden_layer_params = np.vstack((hidden_layer_params, new_node_weights))\n",
        "  hidden_layer_params = np.vstack((hidden_layer_params, new_node_weights))\n",
        "  hidden_layer_params = np.vstack((hidden_layer_params, new_node_weights))\n",
        "  '''print(hidden_layer_params)'''\n",
        "  bias_matrix = model_EB_LG.fc1.bias.detach().numpy()\n",
        "  new_bias = np.append(bias_matrix, new_node_bias_1)\n",
        "  new_bias = np.append(new_bias, new_node_bias_2)\n",
        "  new_bias = np.append(new_bias, new_node_bias_3)\n",
        "  '''print(new_bias)'''\n",
        "  weight_matrix_2 = model_EB_LG.output.weight.detach().numpy()\n",
        "  modified_weight_matrix_2 = np.append(weight_matrix_2[0], new_node_output_weights_1)\n",
        "  modified_weight_matrix_2 = np.append(modified_weight_matrix_2, new_node_output_weights_2)\n",
        "  modified_weight_matrix_2 = np.append(modified_weight_matrix_2, new_node_output_weights_3)\n",
        "  updated_weight_matrix_2 = np.empty((1,H+(i+1)*3))\n",
        "  updated_weight_matrix_2[0] = modified_weight_matrix_2\n",
        "  '''print(updated_weight_matrix_2)'''\n",
        "  # 將自訂的權重和偏差儲存在模型中\n",
        "  model_EB_LG.fc1.weight = nn.Parameter(torch.from_numpy(hidden_layer_params).type(torch.Tensor))\n",
        "  model_EB_LG.fc1.bias = nn.Parameter(torch.from_numpy(new_bias).type(torch.Tensor))\n",
        "  model_EB_LG.output.weight = nn.Parameter(torch.from_numpy(updated_weight_matrix_2).type(torch.Tensor))\n",
        "\n",
        "  print(f'調整第{i+1}個unacceptable case後的parameters setting')\n",
        "  for name, param in model_EB_LG.named_parameters():\n",
        "    print(name, param)\n",
        "  output = model_EB_LG(X_train)\n",
        "  loss = criterion(output.view(-1), y_train)\n",
        "  print('\\n')\n",
        "  print('loss = {}'.format(loss))\n",
        "  print('==========================================================================')\n",
        "\n",
        "if loss <= lg:\n",
        "  print('Acceptable model')\n",
        "else:\n",
        "  print('Fail')"
      ],
      "metadata": {
        "colab": {
          "base_uri": "https://localhost:8080/"
        },
        "id": "MBWXpnqkQp6p",
        "outputId": "e8a3e2cf-826f-48e2-c041-6b299a9aba0b"
      },
      "execution_count": null,
      "outputs": [
        {
          "output_type": "stream",
          "name": "stdout",
          "text": [
            "調整第2個unacceptable case後的parameters setting\n",
            "fc1.weight Parameter containing:\n",
            "tensor([[-0.4294, -0.5413, -0.5504,  0.3812, -1.4949, -0.1351, -0.8694,  1.2358],\n",
            "        [-1.0213, -0.3627,  0.1970, -0.4086,  0.2433, -0.3123, -0.1819, -1.4422],\n",
            "        [-0.4053,  0.8297, -0.4579, -0.1478, -0.2852,  0.4405, -0.0337,  0.3097],\n",
            "        [ 0.9144,  0.7410,  0.1643,  0.4742,  0.4254,  0.6694,  0.0473,  0.7995],\n",
            "        [ 0.9144,  0.7410,  0.1643,  0.4742,  0.4254,  0.6694,  0.0473,  0.7995],\n",
            "        [ 0.9144,  0.7410,  0.1643,  0.4742,  0.4254,  0.6694,  0.0473,  0.7995],\n",
            "        [ 0.9144,  0.7410,  0.1643,  0.4742,  0.4254,  0.6694,  0.0473,  0.7995],\n",
            "        [ 0.9144,  0.7410,  0.1643,  0.4742,  0.4254,  0.6694,  0.0473,  0.7995],\n",
            "        [ 0.9144,  0.7410,  0.1643,  0.4742,  0.4254,  0.6694,  0.0473,  0.7995]],\n",
            "       requires_grad=True)\n",
            "fc1.bias Parameter containing:\n",
            "tensor([ 0.4643, -0.0637,  0.7133,  1.4395,  1.4389,  1.4382,  0.9929,  0.9923,\n",
            "         0.9916], requires_grad=True)\n",
            "output.weight Parameter containing:\n",
            "tensor([[-8.3523e-01, -1.4835e+00,  9.8568e-01,  5.6832e+03, -1.1366e+04,\n",
            "          5.6832e+03,  6.2669e+03, -1.2534e+04,  6.2669e+03]],\n",
            "       requires_grad=True)\n",
            "output.bias Parameter containing:\n",
            "tensor([0.2386], requires_grad=True)\n",
            "\n",
            "\n",
            "loss = 0.4070233106613159\n",
            "==========================================================================\n",
            "Fail\n"
          ]
        }
      ]
    },
    {
      "cell_type": "markdown",
      "source": [
        "## 用第三個unacceptable case"
      ],
      "metadata": {
        "id": "zQPyL6E5ZLtw"
      }
    },
    {
      "cell_type": "code",
      "source": [
        "for i in range(2,11):\n",
        "  # 從第一個unacceptable case開始修正\n",
        "  new_node_weights = 𝛾 # 初始化input to hidden nodes的weights\n",
        "  new_node_bias_1 = 𝜁 - np.dot(𝛾, unacceptable[i])\n",
        "  new_node_bias_2 = -np.dot(𝛾, unacceptable[i])\n",
        "  new_node_bias_3 = -𝜁 - np.dot(𝛾, unacceptable[i])\n",
        "  # activation of i hidden node corresponding to x_k\n",
        "  hidden_layer_value = torch.matmul(unacceptable[0], model_EB_LG.fc1.weight.T)\n",
        "  hidden_layer_Relu = torch.where(hidden_layer_value >= 0, hidden_layer_value, torch.zeros_like(hidden_layer_value)) # ReLU\n",
        "  new_node_output_weights_1 = (y_train[unacceptable_idx[i]] - model_EB_LG.output.bias.detach().numpy() - np.dot(model_EB_LG.output.weight.detach().numpy(), hidden_layer_Relu.detach().numpy().T))/𝜁\n",
        "  new_node_output_weights_2 = (-2*(y_train[unacceptable_idx[i]] - model_EB_LG.output.bias.detach().numpy() - np.dot(model_EB_LG.output.weight.detach().numpy(), hidden_layer_Relu.detach().numpy().T)))/𝜁\n",
        "  new_node_output_weights_3 = (y_train[unacceptable_idx[i]] - model_EB_LG.output.bias.detach().numpy() - np.dot(model_EB_LG.output.weight.detach().numpy(), hidden_layer_Relu.detach().numpy().T))/𝜁\n",
        "  '''print(new_node_weights)\n",
        "  print(new_node_bias)\n",
        "  print(new_node_output_weights)'''\n",
        "\n",
        "  # 手動新增hidden node按照數學公式\n",
        "  hidden_layer_params = model_EB_LG.fc1.weight.detach().numpy()\n",
        "  hidden_layer_params = np.vstack((hidden_layer_params, new_node_weights))\n",
        "  hidden_layer_params = np.vstack((hidden_layer_params, new_node_weights))\n",
        "  hidden_layer_params = np.vstack((hidden_layer_params, new_node_weights))\n",
        "  '''print(hidden_layer_params)'''\n",
        "  bias_matrix = model_EB_LG.fc1.bias.detach().numpy()\n",
        "  new_bias = np.append(bias_matrix, new_node_bias_1)\n",
        "  new_bias = np.append(new_bias, new_node_bias_2)\n",
        "  new_bias = np.append(new_bias, new_node_bias_3)\n",
        "  '''print(new_bias)'''\n",
        "  weight_matrix_2 = model_EB_LG.output.weight.detach().numpy()\n",
        "  modified_weight_matrix_2 = np.append(weight_matrix_2[0], new_node_output_weights_1)\n",
        "  modified_weight_matrix_2 = np.append(modified_weight_matrix_2, new_node_output_weights_2)\n",
        "  modified_weight_matrix_2 = np.append(modified_weight_matrix_2, new_node_output_weights_3)\n",
        "  updated_weight_matrix_2 = np.empty((1,H+(i+1)*3))\n",
        "  updated_weight_matrix_2[0] = modified_weight_matrix_2\n",
        "  '''print(updated_weight_matrix_2)'''\n",
        "  # 將自訂的權重和偏差儲存在模型中\n",
        "  model_EB_LG.fc1.weight = nn.Parameter(torch.from_numpy(hidden_layer_params).type(torch.Tensor))\n",
        "  model_EB_LG.fc1.bias = nn.Parameter(torch.from_numpy(new_bias).type(torch.Tensor))\n",
        "  model_EB_LG.output.weight = nn.Parameter(torch.from_numpy(updated_weight_matrix_2).type(torch.Tensor))\n",
        "\n",
        "  print(f'調整第{i+1}個unacceptable case後的parameters setting')\n",
        "  for name, param in model_EB_LG.named_parameters():\n",
        "    print(name, param)\n",
        "  output = model_EB_LG(X_train)\n",
        "  loss = criterion(output.view(-1), y_train)\n",
        "  print('\\n')\n",
        "  print('loss = {}'.format(loss))\n",
        "  print('==========================================================================')\n",
        "\n",
        "if loss <= lg:\n",
        "  print('Acceptable model')\n",
        "else:\n",
        "  print('Fail')"
      ],
      "metadata": {
        "id": "iG6UFmFlRIoH"
      },
      "execution_count": null,
      "outputs": []
    }
  ]
}