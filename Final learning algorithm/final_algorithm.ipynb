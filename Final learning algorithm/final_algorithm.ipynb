{
  "nbformat": 4,
  "nbformat_minor": 0,
  "metadata": {
    "colab": {
      "provenance": []
    },
    "kernelspec": {
      "name": "python3",
      "display_name": "Python 3"
    },
    "language_info": {
      "name": "python"
    }
  },
  "cells": [
    {
      "cell_type": "markdown",
      "source": [
        "## weight-tuning_EB_LG\n",
        "*   Epoch Bound : 在train 4000中\n",
        "*   Learning Goal : loss要小於0.25"
      ],
      "metadata": {
        "id": "lirGs2xtBcZx"
      }
    },
    {
      "cell_type": "code",
      "execution_count": null,
      "metadata": {
        "id": "iMGxwY-_Bb9D"
      },
      "outputs": [],
      "source": [
        "import pandas as pd\n",
        "import numpy as np\n",
        "import torch\n",
        "import torch.nn as nn\n",
        "import torch.optim as optim\n",
        "import torch.optim.lr_scheduler as lr_scheduler\n",
        "from sklearn.datasets import load_diabetes\n",
        "from sklearn.preprocessing import StandardScaler\n",
        "from sklearn.model_selection import train_test_split\n",
        "import matplotlib.pyplot as plt"
      ]
    },
    {
      "cell_type": "code",
      "source": [
        "# Load the Boston Housing dataset\n",
        "data = pd.read_csv('/content/drive/MyDrive/Colab Notebooks/新型學習演算法/diabetes.csv')\n",
        "print(\"dimension of data: {}\".format(data.shape))"
      ],
      "metadata": {
        "colab": {
          "base_uri": "https://localhost:8080/"
        },
        "id": "olgDwmRp0cyr",
        "outputId": "5a6dfb5b-5dd2-4887-bac6-8e05276d765b"
      },
      "execution_count": null,
      "outputs": [
        {
          "output_type": "stream",
          "name": "stdout",
          "text": [
            "dimension of data: (768, 9)\n"
          ]
        }
      ]
    },
    {
      "cell_type": "code",
      "source": [
        "X = data.drop('Outcome',axis = 1)\n",
        "X = X.values\n",
        "y = data['Outcome']\n",
        "X_train, X_test, y_train, y_test = train_test_split(X, y, test_size=0.2)\n",
        "X_train, X_val, y_train, y_val = train_test_split(X_train, y_train, test_size=0.2)"
      ],
      "metadata": {
        "id": "Ny4YAcjI1eJw"
      },
      "execution_count": null,
      "outputs": []
    },
    {
      "cell_type": "code",
      "source": [
        "# 將數據轉換為 PyTorch 張量\n",
        "X_train = torch.tensor(X_train, dtype=torch.float32)\n",
        "X_test = torch.tensor(X_test, dtype=torch.float32)\n",
        "X_val = torch.tensor(X_val, dtype=torch.float32)\n",
        "y_train = torch.tensor(y_train.values, dtype=torch.float32)\n",
        "y_test = torch.tensor(y_test.values, dtype=torch.float32)\n",
        "y_val = torch.tensor(y_val.values, dtype=torch.float32)"
      ],
      "metadata": {
        "id": "A_Z848pgL1fC"
      },
      "execution_count": null,
      "outputs": []
    },
    {
      "cell_type": "code",
      "source": [
        "# 設定參數\n",
        "D_in = X.shape[1]\n",
        "H = 7\n",
        "D_out = 1\n",
        "print(f'Input layer: {D_in}')\n",
        "\n",
        "# learning rate\n",
        "learning_rate = 0.01\n",
        "\n",
        "# learning goal\n",
        "lg = 0.42\n",
        "\n",
        "epoch_bound = 100"
      ],
      "metadata": {
        "colab": {
          "base_uri": "https://localhost:8080/"
        },
        "id": "aR_1oPonBv_0",
        "outputId": "31518a89-0185-41e1-ee08-7986c8da95fd"
      },
      "execution_count": null,
      "outputs": [
        {
          "output_type": "stream",
          "name": "stdout",
          "text": [
            "Input layer: 8\n"
          ]
        }
      ]
    },
    {
      "cell_type": "code",
      "source": [
        "from collections import OrderedDict\n",
        "# Define 2-layer neural network\n",
        "model_EB_LG = torch.nn.Sequential(OrderedDict([\n",
        "    ('fc1', torch.nn.Linear(D_in, H)),\n",
        "    ('relu', torch.nn.ReLU()),\n",
        "    ('output', torch.nn.Linear(H, D_out))\n",
        "])\n",
        ")"
      ],
      "metadata": {
        "id": "fqKxAPOY2qC3"
      },
      "execution_count": null,
      "outputs": []
    },
    {
      "cell_type": "code",
      "source": [
        "import time\n",
        "# 損失函數和learning rate\n",
        "criterion = nn.BCEWithLogitsLoss()  # Use BCEWithLogitsLoss for binary classification without sigmoid\n",
        "optimizer = optim.Adam(model_EB_LG.parameters(), lr=learning_rate)\n",
        "\n",
        "# Define the learning rate scheduler\n",
        "scheduler = lr_scheduler.StepLR(optimizer, step_size=5, gamma=0.1)\n",
        "\n",
        "train_losses = []\n",
        "\n",
        "# Train the network\n",
        "loss = float('Inf')\n",
        "\n",
        "best_loss = float('inf')\n",
        "patience = 5  # Number of epochs to wait for improvement\n",
        "counter = 0  # Counter for early stopping\n",
        "\n",
        "start_time = time.time()\n",
        "\n",
        "for epoch in range(epoch_bound):\n",
        "  if loss > lg:\n",
        "    output = model_EB_LG(X_train)\n",
        "    loss = criterion(output.view(-1), y_train)\n",
        "\n",
        "    optimizer.zero_grad()\n",
        "    loss.backward()\n",
        "    optimizer.step()\n",
        "\n",
        "    # Validation phase\n",
        "    model_EB_LG.eval()\n",
        "    with torch.no_grad():\n",
        "      val_outputs = model_EB_LG(X_val)\n",
        "      val_loss = criterion(val_outputs.view(-1), y_val)\n",
        "\n",
        "    scheduler.step()\n",
        "\n",
        "    # Collect the training loss values in list\n",
        "    train_losses.append(loss.item())\n",
        "\n",
        "    # Check for early stopping\n",
        "    if val_loss < best_loss:\n",
        "      best_loss = val_loss\n",
        "      counter = 0\n",
        "    else:\n",
        "      counter += 1\n",
        "      if counter >= patience:\n",
        "        print(\"Early stopping. No improvement for {} epochs.\".format(patience))\n",
        "        break\n",
        "  else:\n",
        "    break\n",
        "\n",
        "\n",
        "end_time = time.time()\n",
        "duration = round(end_time - start_time, 3)\n",
        "print(f\"Training took {duration} seconds.\")\n",
        "print()\n",
        "if epoch+1 < epoch_bound:\n",
        "  print('Acceptable, Epoch {}, Loss: {}'.format(epoch+1, loss.item()))\n",
        "else:\n",
        "  print('Unacceptable, reach epochs {} but loss > {}.\\nEpoch {}, Loss: {}'.format(epoch_bound, lg, epoch+1, loss.item()))\n",
        "\n"
      ],
      "metadata": {
        "colab": {
          "base_uri": "https://localhost:8080/"
        },
        "id": "BDPxTHfYFJg7",
        "outputId": "a8a40604-8ffa-4e57-a2a2-cf50b40f819c"
      },
      "execution_count": null,
      "outputs": [
        {
          "output_type": "stream",
          "name": "stdout",
          "text": [
            "Early stopping. No improvement for 5 epochs.\n",
            "Training took 0.164 seconds.\n",
            "\n",
            "Acceptable, Epoch 40, Loss: 4.337043285369873\n"
          ]
        }
      ]
    },
    {
      "cell_type": "code",
      "source": [
        "# Plot the loss curve\n",
        "plt.plot(train_losses)\n",
        "plt.xlabel('Epoch')\n",
        "plt.ylabel('Loss')\n",
        "plt.title('Training Loss')\n",
        "plt.title(f'Hidden Nodes : {H}')\n",
        "plt.xlim(1, epoch)\n",
        "plt.ylim(0, max(train_losses))\n",
        "plt.show()"
      ],
      "metadata": {
        "colab": {
          "base_uri": "https://localhost:8080/",
          "height": 472
        },
        "id": "sAzSJoggY_Wl",
        "outputId": "83d53933-bc32-413c-bcc8-291bdcfaab48"
      },
      "execution_count": null,
      "outputs": [
        {
          "output_type": "display_data",
          "data": {
            "text/plain": [
              "<Figure size 640x480 with 1 Axes>"
            ],
            "image/png": "[encoded data removed]"
          },
          "metadata": {}
        }
      ]
    },
    {
      "cell_type": "code",
      "source": [
        "y_pred = model_EB_LG(X_test)\n",
        "\n",
        "# Convert predicted probabilities to class labels\n",
        "y_pred_labels = torch.round(torch.sigmoid(y_pred))\n",
        "\n",
        "# Calculate accuracy\n",
        "total = len(y_test)\n",
        "correct = 0\n",
        "for i in range(len(y_pred_labels)):\n",
        "  if y_pred_labels[i] == y_test[i]:\n",
        "    correct += 1\n",
        "accuracy = round((correct / total) * 100,2)\n",
        "\n",
        "print(f\"Accuracy: {accuracy}%\")"
      ],
      "metadata": {
        "colab": {
          "base_uri": "https://localhost:8080/"
        },
        "id": "DXIEdv9onDTJ",
        "outputId": "0979710e-99a9-4dfd-fae4-1094c2e4bca4"
      },
      "execution_count": null,
      "outputs": [
        {
          "output_type": "stream",
          "name": "stdout",
          "text": [
            "Accuracy: 38.31%\n"
          ]
        }
      ]
    },
    {
      "cell_type": "markdown",
      "source": [
        "## Load Pre-processing data"
      ],
      "metadata": {
        "id": "-tHQSS3o382t"
      }
    },
    {
      "cell_type": "code",
      "source": [
        "df = pd.read_pickle('/content/drive/MyDrive/Colab Notebooks/新型學習演算法/preprocess.pkl')"
      ],
      "metadata": {
        "id": "mfWGMW2n3s5n"
      },
      "execution_count": null,
      "outputs": []
    },
    {
      "cell_type": "code",
      "source": [
        "df.describe()"
      ],
      "metadata": {
        "colab": {
          "base_uri": "https://localhost:8080/",
          "height": 300
        },
        "id": "-UPDCN0xR4-j",
        "outputId": "45c40827-d3ed-473b-cdf4-2f865b614d3a"
      },
      "execution_count": null,
      "outputs": [
        {
          "output_type": "execute_result",
          "data": {
            "text/plain": [
              "       Pregnancies     Glucose  BloodPressure  SkinThickness     Insulin  \\\n",
              "count   768.000000  768.000000     768.000000     768.000000  768.000000   \n",
              "mean      4.494673  120.894531      69.105469      29.153420  155.548223   \n",
              "std       2.975395   31.972618      19.355807       8.790942   85.021108   \n",
              "min       1.000000    0.000000       0.000000       7.000000   14.000000   \n",
              "25%       2.000000   99.000000      62.000000      25.000000  121.500000   \n",
              "50%       4.494673  117.000000      72.000000      29.153420  155.548223   \n",
              "75%       6.000000  140.250000      80.000000      32.000000  155.548223   \n",
              "max      17.000000  199.000000     122.000000      99.000000  846.000000   \n",
              "\n",
              "              BMI  DiabetesPedigreeFunction         Age     Outcome  \n",
              "count  768.000000                768.000000  768.000000  768.000000  \n",
              "mean    31.992578                  0.471876   33.240885    0.348958  \n",
              "std      7.884160                  0.331329   11.760232    0.476951  \n",
              "min      0.000000                  0.078000   21.000000    0.000000  \n",
              "25%     27.300000                  0.243750   24.000000    0.000000  \n",
              "50%     32.000000                  0.372500   29.000000    0.000000  \n",
              "75%     36.600000                  0.626250   41.000000    1.000000  \n",
              "max     67.100000                  2.420000   81.000000    1.000000  "
            ],
            "text/html": [
              "\n",
              "  <div id=\"df-7c858378-9ffc-45b7-96fd-4836739b2b71\">\n",
              "    <div class=\"colab-df-container\">\n",
              "      <div>\n",
              "<style scoped>\n",
              "    .dataframe tbody tr th:only-of-type {\n",
              "        vertical-align: middle;\n",
              "    }\n",
              "\n",
              "    .dataframe tbody tr th {\n",
              "        vertical-align: top;\n",
              "    }\n",
              "\n",
              "    .dataframe thead th {\n",
              "        text-align: right;\n",
              "    }\n",
              "</style>\n",
              "<table border=\"1\" class=\"dataframe\">\n",
              "  <thead>\n",
              "    <tr style=\"text-align: right;\">\n",
              "      <th></th>\n",
              "      <th>Pregnancies</th>\n",
              "      <th>Glucose</th>\n",
              "      <th>BloodPressure</th>\n",
              "      <th>SkinThickness</th>\n",
              "      <th>Insulin</th>\n",
              "      <th>BMI</th>\n",
              "      <th>DiabetesPedigreeFunction</th>\n",
              "      <th>Age</th>\n",
              "      <th>Outcome</th>\n",
              "    </tr>\n",
              "  </thead>\n",
              "  <tbody>\n",
              "    <tr>\n",
              "      <th>count</th>\n",
              "      <td>768.000000</td>\n",
              "      <td>768.000000</td>\n",
              "      <td>768.000000</td>\n",
              "      <td>768.000000</td>\n",
              "      <td>768.000000</td>\n",
              "      <td>768.000000</td>\n",
              "      <td>768.000000</td>\n",
              "      <td>768.000000</td>\n",
              "      <td>768.000000</td>\n",
              "    </tr>\n",
              "    <tr>\n",
              "      <th>mean</th>\n",
              "      <td>4.494673</td>\n",
              "      <td>120.894531</td>\n",
              "      <td>69.105469</td>\n",
              "      <td>29.153420</td>\n",
              "      <td>155.548223</td>\n",
              "      <td>31.992578</td>\n",
              "      <td>0.471876</td>\n",
              "      <td>33.240885</td>\n",
              "      <td>0.348958</td>\n",
              "    </tr>\n",
              "    <tr>\n",
              "      <th>std</th>\n",
              "      <td>2.975395</td>\n",
              "      <td>31.972618</td>\n",
              "      <td>19.355807</td>\n",
              "      <td>8.790942</td>\n",
              "      <td>85.021108</td>\n",
              "      <td>7.884160</td>\n",
              "      <td>0.331329</td>\n",
              "      <td>11.760232</td>\n",
              "      <td>0.476951</td>\n",
              "    </tr>\n",
              "    <tr>\n",
              "      <th>min</th>\n",
              "      <td>1.000000</td>\n",
              "      <td>0.000000</td>\n",
              "      <td>0.000000</td>\n",
              "      <td>7.000000</td>\n",
              "      <td>14.000000</td>\n",
              "      <td>0.000000</td>\n",
              "      <td>0.078000</td>\n",
              "      <td>21.000000</td>\n",
              "      <td>0.000000</td>\n",
              "    </tr>\n",
              "    <tr>\n",
              "      <th>25%</th>\n",
              "      <td>2.000000</td>\n",
              "      <td>99.000000</td>\n",
              "      <td>62.000000</td>\n",
              "      <td>25.000000</td>\n",
              "      <td>121.500000</td>\n",
              "      <td>27.300000</td>\n",
              "      <td>0.243750</td>\n",
              "      <td>24.000000</td>\n",
              "      <td>0.000000</td>\n",
              "    </tr>\n",
              "    <tr>\n",
              "      <th>50%</th>\n",
              "      <td>4.494673</td>\n",
              "      <td>117.000000</td>\n",
              "      <td>72.000000</td>\n",
              "      <td>29.153420</td>\n",
              "      <td>155.548223</td>\n",
              "      <td>32.000000</td>\n",
              "      <td>0.372500</td>\n",
              "      <td>29.000000</td>\n",
              "      <td>0.000000</td>\n",
              "    </tr>\n",
              "    <tr>\n",
              "      <th>75%</th>\n",
              "      <td>6.000000</td>\n",
              "      <td>140.250000</td>\n",
              "      <td>80.000000</td>\n",
              "      <td>32.000000</td>\n",
              "      <td>155.548223</td>\n",
              "      <td>36.600000</td>\n",
              "      <td>0.626250</td>\n",
              "      <td>41.000000</td>\n",
              "      <td>1.000000</td>\n",
              "    </tr>\n",
              "    <tr>\n",
              "      <th>max</th>\n",
              "      <td>17.000000</td>\n",
              "      <td>199.000000</td>\n",
              "      <td>122.000000</td>\n",
              "      <td>99.000000</td>\n",
              "      <td>846.000000</td>\n",
              "      <td>67.100000</td>\n",
              "      <td>2.420000</td>\n",
              "      <td>81.000000</td>\n",
              "      <td>1.000000</td>\n",
              "    </tr>\n",
              "  </tbody>\n",
              "</table>\n",
              "</div>\n",
              "      <button class=\"colab-df-convert\" onclick=\"convertToInteractive('df-7c858378-9ffc-45b7-96fd-4836739b2b71')\"\n",
              "              title=\"Convert this dataframe to an interactive table.\"\n",
              "              style=\"display:none;\">\n",
              "        \n",
              "  <svg xmlns=\"http://www.w3.org/2000/svg\" height=\"24px\"viewBox=\"0 0 24 24\"\n",
              "       width=\"24px\">\n",
              "    <path d=\"M0 0h24v24H0V0z\" fill=\"none\"/>\n",
              "    <path d=\"M18.56 5.44l.94 2.06.94-2.06 2.06-.94-2.06-.94-.94-2.06-.94 2.06-2.06.94zm-11 1L8.5 8.5l.94-2.06 2.06-.94-2.06-.94L8.5 2.5l-.94 2.06-2.06.94zm10 10l.94 2.06.94-2.06 2.06-.94-2.06-.94-.94-2.06-.94 2.06-2.06.94z\"/><path d=\"M17.41 7.96l-1.37-1.37c-.4-.4-.92-.59-1.43-.59-.52 0-1.04.2-1.43.59L10.3 9.45l-7.72 7.72c-.78.78-.78 2.05 0 2.83L4 21.41c.39.39.9.59 1.41.59.51 0 1.02-.2 1.41-.59l7.78-7.78 2.81-2.81c.8-.78.8-2.07 0-2.86zM5.41 20L4 18.59l7.72-7.72 1.47 1.35L5.41 20z\"/>\n",
              "  </svg>\n",
              "      </button>\n",
              "      \n",
              "  <style>\n",
              "    .colab-df-container {\n",
              "      display:flex;\n",
              "      flex-wrap:wrap;\n",
              "      gap: 12px;\n",
              "    }\n",
              "\n",
              "    .colab-df-convert {\n",
              "      background-color: #E8F0FE;\n",
              "      border: none;\n",
              "      border-radius: 50%;\n",
              "      cursor: pointer;\n",
              "      display: none;\n",
              "      fill: #1967D2;\n",
              "      height: 32px;\n",
              "      padding: 0 0 0 0;\n",
              "      width: 32px;\n",
              "    }\n",
              "\n",
              "    .colab-df-convert:hover {\n",
              "      background-color: #E2EBFA;\n",
              "      box-shadow: 0px 1px 2px rgba(60, 64, 67, 0.3), 0px 1px 3px 1px rgba(60, 64, 67, 0.15);\n",
              "      fill: #174EA6;\n",
              "    }\n",
              "\n",
              "    [theme=dark] .colab-df-convert {\n",
              "      background-color: #3B4455;\n",
              "      fill: #D2E3FC;\n",
              "    }\n",
              "\n",
              "    [theme=dark] .colab-df-convert:hover {\n",
              "      background-color: #434B5C;\n",
              "      box-shadow: 0px 1px 3px 1px rgba(0, 0, 0, 0.15);\n",
              "      filter: drop-shadow(0px 1px 2px rgba(0, 0, 0, 0.3));\n",
              "      fill: #FFFFFF;\n",
              "    }\n",
              "  </style>\n",
              "\n",
              "      <script>\n",
              "        const buttonEl =\n",
              "          document.querySelector('#df-7c858378-9ffc-45b7-96fd-4836739b2b71 button.colab-df-convert');\n",
              "        buttonEl.style.display =\n",
              "          google.colab.kernel.accessAllowed ? 'block' : 'none';\n",
              "\n",
              "        async function convertToInteractive(key) {\n",
              "          const element = document.querySelector('#df-7c858378-9ffc-45b7-96fd-4836739b2b71');\n",
              "          const dataTable =\n",
              "            await google.colab.kernel.invokeFunction('convertToInteractive',\n",
              "                                                     [key], {});\n",
              "          if (!dataTable) return;\n",
              "\n",
              "          const docLinkHtml = 'Like what you see? Visit the ' +\n",
              "            '<a target=\"_blank\" href=https://colab.research.google.com/notebooks/data_table.ipynb>data table notebook</a>'\n",
              "            + ' to learn more about interactive tables.';\n",
              "          element.innerHTML = '';\n",
              "          dataTable['output_type'] = 'display_data';\n",
              "          await google.colab.output.renderOutput(dataTable, element);\n",
              "          const docLink = document.createElement('div');\n",
              "          docLink.innerHTML = docLinkHtml;\n",
              "          element.appendChild(docLink);\n",
              "        }\n",
              "      </script>\n",
              "    </div>\n",
              "  </div>\n",
              "  "
            ]
          },
          "metadata": {},
          "execution_count": 18
        }
      ]
    },
    {
      "cell_type": "code",
      "source": [
        "# Normalize the data\n",
        "scaler = StandardScaler()\n",
        "X = scaler.fit_transform(df.drop('Outcome',axis = 1))\n",
        "y = df['Outcome']\n",
        "X_train, X_test, y_train, y_test = train_test_split(X, y, test_size=0.2)\n",
        "X_train, X_val, y_train, y_val = train_test_split(X_train, y_train, test_size=0.2)"
      ],
      "metadata": {
        "id": "mtrEBvxJ_hKw"
      },
      "execution_count": null,
      "outputs": []
    },
    {
      "cell_type": "code",
      "source": [
        "# 將數據轉換為 PyTorch 張量\n",
        "X_train = torch.tensor(X_train, dtype=torch.float32)\n",
        "X_test = torch.tensor(X_test, dtype=torch.float32)\n",
        "X_val = torch.tensor(X_val, dtype=torch.float32)\n",
        "y_train = torch.tensor(y_train.values, dtype=torch.float32)\n",
        "y_test = torch.tensor(y_test.values, dtype=torch.float32)\n",
        "y_val = torch.tensor(y_val.values, dtype=torch.float32)"
      ],
      "metadata": {
        "id": "bzwZ0mtm_k1b"
      },
      "execution_count": null,
      "outputs": []
    },
    {
      "cell_type": "code",
      "source": [
        "from collections import OrderedDict\n",
        "# Define 2-layer neural network\n",
        "model_EB_LG = torch.nn.Sequential(OrderedDict([\n",
        "    ('fc1', torch.nn.Linear(D_in, H)),\n",
        "    ('relu', torch.nn.ReLU()),\n",
        "    ('output', torch.nn.Linear(H, D_out))\n",
        "])\n",
        ")\n",
        "\n",
        "# 損失函數和learning rate\n",
        "criterion = nn.BCEWithLogitsLoss()  # Use BCEWithLogitsLoss for binary classification without sigmoid\n",
        "optimizer = optim.Adam(model_EB_LG.parameters(), lr=learning_rate)\n",
        "\n",
        "train_losses = []\n",
        "\n",
        "# Train the network\n",
        "loss = float('Inf')\n",
        "best_loss = float('inf')\n",
        "patience = 5  # Number of epochs to wait for improvement\n",
        "counter = 0  # Counter for early stopping\n",
        "start_time = time.time()\n",
        "for epoch in range(epoch_bound):\n",
        "  if loss > lg:\n",
        "\n",
        "    output = model_EB_LG(X_train)\n",
        "    loss = criterion(output.view(-1), y_train)\n",
        "\n",
        "    optimizer.zero_grad()\n",
        "    loss.backward()\n",
        "    optimizer.step()\n",
        "\n",
        "    # Validation phase\n",
        "    model_EB_LG.eval()\n",
        "    with torch.no_grad():\n",
        "      val_outputs = model_EB_LG(X_val)\n",
        "      val_loss = criterion(val_outputs.view(-1), y_val)\n",
        "\n",
        "    scheduler.step()\n",
        "\n",
        "\n",
        "    # Collect the training loss values in list\n",
        "    train_losses.append(loss.item())\n",
        "\n",
        "    # Check for early stopping\n",
        "    if val_loss < best_loss:\n",
        "      best_loss = val_loss\n",
        "      counter = 0\n",
        "    else:\n",
        "      counter += 1\n",
        "      if counter >= patience:\n",
        "        print(\"Early stopping. No improvement for {} epochs.\".format(patience))\n",
        "        break\n",
        "  else:\n",
        "    break\n",
        "\n",
        "\n",
        "end_time = time.time()\n",
        "duration = round(end_time - start_time, 3)\n",
        "print(f\"Training took {duration} seconds.\")\n",
        "print()\n",
        "if epoch+1 < epoch_bound and loss < lg:\n",
        "  print('Acceptable, Epoch {}, Loss: {}'.format(epoch+1, loss.item()))\n",
        "else:\n",
        "  print('Unacceptable, reach epochs {} but loss > {}.\\nEpoch {}, Loss: {}'.format(epoch_bound, lg, epoch+1, loss.item()))\n",
        "\n"
      ],
      "metadata": {
        "colab": {
          "base_uri": "https://localhost:8080/"
        },
        "id": "U4gKrNt3_Ulk",
        "outputId": "a78e0c24-3faa-4b17-8329-d38c3d18fe25"
      },
      "execution_count": null,
      "outputs": [
        {
          "output_type": "stream",
          "name": "stdout",
          "text": [
            "Early stopping. No improvement for 5 epochs.\n",
            "Training took 0.214 seconds.\n",
            "\n",
            "Unacceptable, reach epochs 100 but loss > 0.42.\n",
            "Epoch 62, Loss: 0.4397980570793152\n"
          ]
        }
      ]
    },
    {
      "cell_type": "code",
      "source": [
        "# Plot the loss curve\n",
        "plt.plot(train_losses)\n",
        "plt.xlabel('Epoch')\n",
        "plt.ylabel('Loss')\n",
        "plt.title('Training Loss')\n",
        "plt.title(f'Hidden Nodes : {H}')\n",
        "plt.xlim(1, epoch)\n",
        "plt.ylim(0, max(train_losses))\n",
        "plt.show()"
      ],
      "metadata": {
        "colab": {
          "base_uri": "https://localhost:8080/",
          "height": 472
        },
        "id": "qLeVYg0XeV-T",
        "outputId": "61644ad0-225c-4fa6-f504-a87262365e46"
      },
      "execution_count": null,
      "outputs": [
        {
          "output_type": "display_data",
          "data": {
            "text/plain": [
              "<Figure size 640x480 with 1 Axes>"
            ],
            "image/png": "[encoded data removed]"
          },
          "metadata": {}
        }
      ]
    },
    {
      "cell_type": "code",
      "source": [
        "y_pred = model_EB_LG(X_test)\n",
        "\n",
        "# Convert predicted probabilities to class labels\n",
        "y_pred_labels = torch.round(torch.sigmoid(y_pred))\n",
        "\n",
        "# Calculate accuracy\n",
        "total = len(y_test)\n",
        "correct = 0\n",
        "for i in range(len(y_pred_labels)):\n",
        "  if y_pred_labels[i] == y_test[i]:\n",
        "    correct += 1\n",
        "accuracy = round((correct / total) * 100,2)\n",
        "\n",
        "print(f\"Accuracy: {accuracy}%\")"
      ],
      "metadata": {
        "colab": {
          "base_uri": "https://localhost:8080/"
        },
        "id": "JJYNrWecncXQ",
        "outputId": "1ca91024-8fdc-46df-de2c-7d6a53c167b7"
      },
      "execution_count": null,
      "outputs": [
        {
          "output_type": "stream",
          "name": "stdout",
          "text": [
            "Accuracy: 75.32%\n"
          ]
        }
      ]
    },
    {
      "cell_type": "markdown",
      "source": [
        "## Find unacceptable cases\n",
        "Two-class classification application\n",
        "Use learing_goal_2 :\n",
        "\n",
        "\n",
        "1.   If f(x,w) ≥ 𝛆, label=1\n",
        "2.   If f(x,w) ≤ -𝛆, label=0\n",
        "3.   If 𝛆 < f(x,w) < 1-𝛆, then x unknown\n",
        "\n"
      ],
      "metadata": {
        "id": "AbDdE3IPnsfb"
      }
    },
    {
      "cell_type": "code",
      "source": [
        "𝛆 = 2.5\n",
        "acceptable = []\n",
        "unacceptable = []\n",
        "acceptable_idx = []\n",
        "unacceptable_idx = []\n",
        "unknown = []\n",
        "unknown_idx = []\n",
        "for i in range(len(X_train)):\n",
        "  output = model_EB_LG(X_train[i])\n",
        "  if output >= 𝛆:\n",
        "    if torch.round(torch.sigmoid(output)) == y_train[i]:\n",
        "      acceptable.append(X_train[i])\n",
        "      acceptable_idx.append(i)\n",
        "    else:\n",
        "      unacceptable.append(X_train[i])\n",
        "      unacceptable_idx.append(i)\n",
        "  elif output <= -𝛆:\n",
        "    if torch.round(torch.sigmoid(output)) == y_train[i]:\n",
        "      acceptable.append(X_train[i])\n",
        "      acceptable_idx.append(i)\n",
        "    else:\n",
        "      unacceptable.append(X_train[i])\n",
        "      unacceptable_idx.append(i)\n",
        "  else:\n",
        "    unknown.append(X_train[i])\n",
        "    unknown_idx.append(i)\n",
        "print(len(unacceptable))"
      ],
      "metadata": {
        "colab": {
          "base_uri": "https://localhost:8080/"
        },
        "id": "_SlwJyYXnoYf",
        "outputId": "aa5b4986-806d-45fb-b2db-1323b63fc733"
      },
      "execution_count": null,
      "outputs": [
        {
          "output_type": "stream",
          "name": "stdout",
          "text": [
            "1\n"
          ]
        }
      ]
    },
    {
      "cell_type": "code",
      "source": [
        "unacceptable_idx"
      ],
      "metadata": {
        "id": "wJoiiV0BQvq1",
        "colab": {
          "base_uri": "https://localhost:8080/"
        },
        "outputId": "05d25c33-f4e3-4134-99e9-2d8157500897"
      },
      "execution_count": null,
      "outputs": [
        {
          "output_type": "execute_result",
          "data": {
            "text/plain": [
              "[55]"
            ]
          },
          "metadata": {},
          "execution_count": 51
        }
      ]
    },
    {
      "cell_type": "code",
      "source": [
        "len(X_train) == len(unknown)+len(acceptable)+len(unacceptable)"
      ],
      "metadata": {
        "colab": {
          "base_uri": "https://localhost:8080/"
        },
        "id": "t3qrZtiGMMlT",
        "outputId": "a5caef3f-a131-41de-fcf9-50df33861a0e"
      },
      "execution_count": null,
      "outputs": [
        {
          "output_type": "execute_result",
          "data": {
            "text/plain": [
              "True"
            ]
          },
          "metadata": {},
          "execution_count": 52
        }
      ]
    },
    {
      "cell_type": "code",
      "source": [
        "len(unknown)"
      ],
      "metadata": {
        "colab": {
          "base_uri": "https://localhost:8080/"
        },
        "id": "M4fJE0gbYuUM",
        "outputId": "02eed796-17cf-4e4b-e6d3-33da2aab686b"
      },
      "execution_count": null,
      "outputs": [
        {
          "output_type": "execute_result",
          "data": {
            "text/plain": [
              "384"
            ]
          },
          "metadata": {},
          "execution_count": 53
        }
      ]
    },
    {
      "cell_type": "markdown",
      "source": [
        "## Isolating_Ri_ZG"
      ],
      "metadata": {
        "id": "wSZivAgSE-Ih"
      }
    },
    {
      "cell_type": "code",
      "source": [
        "# random generate gama (8-dimensional tensor)\n",
        "𝛾 = np.random.rand(8)\n",
        "k = unacceptable[0]\n",
        "for i in acceptable:\n",
        "  if np.dot(𝛾, (i-k)) == 0:\n",
        "    print('unacceptable 𝛾')\n",
        "    break\n",
        "print(f'This 𝛾={𝛾} is acceptable')"
      ],
      "metadata": {
        "colab": {
          "base_uri": "https://localhost:8080/"
        },
        "id": "yWMSHQ9gFHMW",
        "outputId": "30db66ad-d4e9-4c13-f04b-895ac1cbe19c"
      },
      "execution_count": null,
      "outputs": [
        {
          "output_type": "stream",
          "name": "stdout",
          "text": [
            "This 𝛾=[0.83219893 0.3995828  0.4662331  0.26999288 0.58892512 0.57022492\n",
            " 0.81863109 0.78061715] is acceptable\n"
          ]
        }
      ]
    },
    {
      "cell_type": "code",
      "source": [
        "type(𝛾)"
      ],
      "metadata": {
        "colab": {
          "base_uri": "https://localhost:8080/"
        },
        "id": "VIg_2B00LpCq",
        "outputId": "4ac3ebc8-6c57-4757-d239-07815a162db0"
      },
      "execution_count": null,
      "outputs": [
        {
          "output_type": "execute_result",
          "data": {
            "text/plain": [
              "numpy.ndarray"
            ]
          },
          "metadata": {},
          "execution_count": 55
        }
      ]
    },
    {
      "cell_type": "code",
      "source": [
        "import random\n",
        "random_float = random.uniform(0, 1)\n",
        "print(random_float)"
      ],
      "metadata": {
        "colab": {
          "base_uri": "https://localhost:8080/"
        },
        "id": "ewsl4nusKX1y",
        "outputId": "71e64636-ddbc-4fda-b9fb-8a0c479b4f70"
      },
      "execution_count": null,
      "outputs": [
        {
          "output_type": "stream",
          "name": "stdout",
          "text": [
            "0.6270298843143124\n"
          ]
        }
      ]
    },
    {
      "cell_type": "code",
      "source": [
        "import random\n",
        "flag = 1\n",
        "while flag == 1:\n",
        "  𝜁 = random.uniform(0, 1)\n",
        "  for i in acceptable:\n",
        "    if (𝜁 + np.dot(𝛾, (i-k)))*(𝜁 - np.dot(𝛾, (i-k))) >= 0:\n",
        "      '''print('unacceptable 𝜁')'''\n",
        "      break\n",
        "    if i.tolist() == acceptable[-1].tolist():\n",
        "      print(f'This 𝜁={𝜁} is acceptable')\n",
        "      flag = 0"
      ],
      "metadata": {
        "colab": {
          "base_uri": "https://localhost:8080/"
        },
        "id": "neMeXMFNH3dH",
        "outputId": "1e3a0c5f-ae9c-4b41-ec01-dee3dd7d4ea0"
      },
      "execution_count": null,
      "outputs": [
        {
          "output_type": "stream",
          "name": "stdout",
          "text": [
            "This 𝜁=0.26957844747868753 is acceptable\n"
          ]
        }
      ]
    },
    {
      "cell_type": "code",
      "source": [
        "Analogizing_loss = []"
      ],
      "metadata": {
        "id": "fPe-R5Nugu8v"
      },
      "execution_count": null,
      "outputs": []
    },
    {
      "cell_type": "markdown",
      "source": [
        "## 看要改幾個unacceptable case才可以達到learning goal"
      ],
      "metadata": {
        "id": "19pwu0kCZ1Zf"
      }
    },
    {
      "cell_type": "code",
      "source": [
        "while len(unacceptable_idx) > 0:\n",
        "  for i in range(0,1):\n",
        "    # 從第一個unacceptable case開始修正\n",
        "    new_node_weights = 𝛾 # 初始化input to hidden nodes的weights\n",
        "    new_node_bias_1 = 𝜁 - np.dot(𝛾, unacceptable[i])\n",
        "    new_node_bias_2 = -np.dot(𝛾, unacceptable[i])\n",
        "    new_node_bias_3 = -𝜁 - np.dot(𝛾, unacceptable[i])\n",
        "    # activation of i hidden node corresponding to x_k\n",
        "    hidden_layer_value = torch.matmul(unacceptable[0], model_EB_LG.fc1.weight.T)\n",
        "    hidden_layer_Relu = torch.where(hidden_layer_value >= 0, hidden_layer_value, torch.zeros_like(hidden_layer_value)) # ReLU\n",
        "    new_node_output_weights_1 = (y_train[unacceptable_idx[i]] - model_EB_LG.output.bias.detach().numpy() - np.dot(model_EB_LG.output.weight.detach().numpy(), hidden_layer_Relu.detach().numpy().T))/𝜁\n",
        "    new_node_output_weights_2 = (-2*(y_train[unacceptable_idx[i]] - model_EB_LG.output.bias.detach().numpy() - np.dot(model_EB_LG.output.weight.detach().numpy(), hidden_layer_Relu.detach().numpy().T)))/𝜁\n",
        "    new_node_output_weights_3 = (y_train[unacceptable_idx[i]] - model_EB_LG.output.bias.detach().numpy() - np.dot(model_EB_LG.output.weight.detach().numpy(), hidden_layer_Relu.detach().numpy().T))/𝜁\n",
        "    '''print(new_node_weights)\n",
        "    print(new_node_bias)\n",
        "    print(new_node_output_weights)'''\n",
        "\n",
        "    # 手動新增hidden node按照數學公式\n",
        "    hidden_layer_params = model_EB_LG.fc1.weight.detach().numpy()\n",
        "    hidden_layer_params = np.vstack((hidden_layer_params, new_node_weights))\n",
        "    hidden_layer_params = np.vstack((hidden_layer_params, new_node_weights))\n",
        "    hidden_layer_params = np.vstack((hidden_layer_params, new_node_weights))\n",
        "    '''print(hidden_layer_params)'''\n",
        "    bias_matrix = model_EB_LG.fc1.bias.detach().numpy()\n",
        "    new_bias = np.append(bias_matrix, new_node_bias_1)\n",
        "    new_bias = np.append(new_bias, new_node_bias_2)\n",
        "    new_bias = np.append(new_bias, new_node_bias_3)\n",
        "    '''print(new_bias)'''\n",
        "    weight_matrix_2 = model_EB_LG.output.weight.detach().numpy()\n",
        "    modified_weight_matrix_2 = np.append(weight_matrix_2[0], new_node_output_weights_1)\n",
        "    modified_weight_matrix_2 = np.append(modified_weight_matrix_2, new_node_output_weights_2)\n",
        "    modified_weight_matrix_2 = np.append(modified_weight_matrix_2, new_node_output_weights_3)\n",
        "    # Get the number of hidden nodes in the second layer\n",
        "    h = model_EB_LG.fc1.bias.shape\n",
        "    updated_weight_matrix_2 = np.empty((1,h[0]+(i+1)*3))\n",
        "    updated_weight_matrix_2[0] = modified_weight_matrix_2\n",
        "    '''print(updated_weight_matrix_2)'''\n",
        "    # 將自訂的權重和偏差儲存在模型中\n",
        "    model_EB_LG.fc1.weight = nn.Parameter(torch.from_numpy(hidden_layer_params).type(torch.Tensor))\n",
        "    model_EB_LG.fc1.bias = nn.Parameter(torch.from_numpy(new_bias).type(torch.Tensor))\n",
        "    model_EB_LG.output.weight = nn.Parameter(torch.from_numpy(updated_weight_matrix_2).type(torch.Tensor))\n",
        "\n",
        "    print(f'調整第{i+1}個unacceptable case後的parameters setting')\n",
        "    for name, param in model_EB_LG.named_parameters():\n",
        "      print(name, param)\n",
        "    output = model_EB_LG(X_train)\n",
        "    loss = criterion(output.view(-1), y_train)\n",
        "    print()\n",
        "    print('loss = {}'.format(loss))\n",
        "    Analogizing_loss.append(loss)\n",
        "    print('==========================================================================')\n",
        "\n",
        "    if loss <= lg:\n",
        "      print('Acceptable model')\n",
        "      break\n",
        "    else:\n",
        "      print('Fail')\n",
        "\n",
        "    acceptable = []\n",
        "    unacceptable = []\n",
        "    acceptable_idx = []\n",
        "    unacceptable_idx = []\n",
        "    unknown = []\n",
        "    unknown_idx = []\n",
        "    for i in range(len(X_train)):\n",
        "      output = model_EB_LG(X_train[i])\n",
        "      if output >= 𝛆:\n",
        "        if torch.round(torch.sigmoid(output)) == y_train[i]:\n",
        "          acceptable.append(X_train[i])\n",
        "          acceptable_idx.append(i)\n",
        "        else:\n",
        "          unacceptable.append(X_train[i])\n",
        "          unacceptable_idx.append(i)\n",
        "      elif output <= -𝛆:\n",
        "        if torch.round(torch.sigmoid(output)) == y_train[i]:\n",
        "          acceptable.append(X_train[i])\n",
        "          acceptable_idx.append(i)\n",
        "        else:\n",
        "          unacceptable.append(X_train[i])\n",
        "          unacceptable_idx.append(i)\n",
        "      else:\n",
        "        unknown.append(X_train[i])\n",
        "        unknown_idx.append(i)\n",
        "    print('unacceptable cases count:',len(unacceptable))\n",
        "    print(unacceptable_idx)\n",
        "    print()"
      ],
      "metadata": {
        "colab": {
          "base_uri": "https://localhost:8080/"
        },
        "id": "oyucP1zzZ0yh",
        "outputId": "a907b903-c47a-413a-ad82-125ca4b5b09f"
      },
      "execution_count": null,
      "outputs": [
        {
          "output_type": "stream",
          "name": "stdout",
          "text": [
            "調整第1個unacceptable case後的parameters setting\n",
            "fc1.weight Parameter containing:\n",
            "tensor([[-0.2202,  0.8421, -0.3047, -0.2078, -0.3908,  0.4071,  0.0357, -0.0709],\n",
            "        [-0.0517,  0.2267, -0.1513,  0.0135, -0.0329, -0.0200,  0.2447,  0.4136],\n",
            "        [-0.0704, -0.5538,  0.1623, -0.0109, -0.3716, -0.0025, -0.3576, -0.3580],\n",
            "        [ 0.5153,  0.6486, -0.3111, -0.2542, -0.2175,  0.5763, -0.0547, -0.3356],\n",
            "        [-0.6824, -0.2348, -0.1100, -0.6780, -0.0060, -0.5971, -0.3518, -0.4702],\n",
            "        [ 0.1618,  0.5761,  0.0137, -0.0728, -0.0868,  0.3116,  0.1950,  0.0009],\n",
            "        [ 0.0895,  0.1905,  0.0289,  0.1407,  0.0388, -0.1343, -0.0327, -0.0924],\n",
            "        [ 0.8322,  0.3996,  0.4662,  0.2700,  0.5889,  0.5702,  0.8186,  0.7806],\n",
            "        [ 0.8322,  0.3996,  0.4662,  0.2700,  0.5889,  0.5702,  0.8186,  0.7806],\n",
            "        [ 0.8322,  0.3996,  0.4662,  0.2700,  0.5889,  0.5702,  0.8186,  0.7806]],\n",
            "       requires_grad=True)\n",
            "fc1.bias Parameter containing:\n",
            "tensor([ 0.3578,  0.1531,  0.7548,  0.5452,  0.3722, -0.2972, -0.3192, -1.8218,\n",
            "        -2.0914, -2.3610], requires_grad=True)\n",
            "output.weight Parameter containing:\n",
            "tensor([[ 0.5233, -0.0589, -0.8780,  0.5688, -0.7096,  0.4824,  0.1172, -8.3849,\n",
            "         16.7699, -8.3849]], requires_grad=True)\n",
            "output.bias Parameter containing:\n",
            "tensor([-0.3486], requires_grad=True)\n",
            "\n",
            "loss = 0.4455040693283081\n",
            "==========================================================================\n",
            "Fail\n",
            "unacceptable cases count: 1\n",
            "[47]\n",
            "\n",
            "調整第1個unacceptable case後的parameters setting\n",
            "fc1.weight Parameter containing:\n",
            "tensor([[-0.2202,  0.8421, -0.3047, -0.2078, -0.3908,  0.4071,  0.0357, -0.0709],\n",
            "        [-0.0517,  0.2267, -0.1513,  0.0135, -0.0329, -0.0200,  0.2447,  0.4136],\n",
            "        [-0.0704, -0.5538,  0.1623, -0.0109, -0.3716, -0.0025, -0.3576, -0.3580],\n",
            "        [ 0.5153,  0.6486, -0.3111, -0.2542, -0.2175,  0.5763, -0.0547, -0.3356],\n",
            "        [-0.6824, -0.2348, -0.1100, -0.6780, -0.0060, -0.5971, -0.3518, -0.4702],\n",
            "        [ 0.1618,  0.5761,  0.0137, -0.0728, -0.0868,  0.3116,  0.1950,  0.0009],\n",
            "        [ 0.0895,  0.1905,  0.0289,  0.1407,  0.0388, -0.1343, -0.0327, -0.0924],\n",
            "        [ 0.8322,  0.3996,  0.4662,  0.2700,  0.5889,  0.5702,  0.8186,  0.7806],\n",
            "        [ 0.8322,  0.3996,  0.4662,  0.2700,  0.5889,  0.5702,  0.8186,  0.7806],\n",
            "        [ 0.8322,  0.3996,  0.4662,  0.2700,  0.5889,  0.5702,  0.8186,  0.7806],\n",
            "        [ 0.8322,  0.3996,  0.4662,  0.2700,  0.5889,  0.5702,  0.8186,  0.7806],\n",
            "        [ 0.8322,  0.3996,  0.4662,  0.2700,  0.5889,  0.5702,  0.8186,  0.7806],\n",
            "        [ 0.8322,  0.3996,  0.4662,  0.2700,  0.5889,  0.5702,  0.8186,  0.7806]],\n",
            "       requires_grad=True)\n",
            "fc1.bias Parameter containing:\n",
            "tensor([ 0.3578,  0.1531,  0.7548,  0.5452,  0.3722, -0.2972, -0.3192, -1.8218,\n",
            "        -2.0914, -2.3610, -1.7453, -2.0149, -2.2845], requires_grad=True)\n",
            "output.weight Parameter containing:\n",
            "tensor([[  0.5233,  -0.0589,  -0.8780,   0.5688,  -0.7096,   0.4824,   0.1172,\n",
            "          -8.3849,  16.7699,  -8.3849,   5.9298, -11.8595,   5.9298]],\n",
            "       requires_grad=True)\n",
            "output.bias Parameter containing:\n",
            "tensor([-0.3486], requires_grad=True)\n",
            "\n",
            "loss = 0.4394553005695343\n",
            "==========================================================================\n",
            "Fail\n",
            "unacceptable cases count: 0\n",
            "[]\n",
            "\n"
          ]
        }
      ]
    },
    {
      "cell_type": "markdown",
      "source": [
        "## Retrain the model"
      ],
      "metadata": {
        "id": "OhBa1OslRvIe"
      }
    },
    {
      "cell_type": "code",
      "source": [
        "\n",
        "train_losses = []\n",
        "\n",
        "# Train the network\n",
        "loss = float('Inf')\n",
        "best_loss = float('inf')\n",
        "patience = 5  # Number of epochs to wait for improvement\n",
        "counter = 0  # Counter for early stopping\n",
        "start_time = time.time()\n",
        "for epoch in range(epoch_bound):\n",
        "  if loss > lg:\n",
        "\n",
        "    output = model_EB_LG(X_train)\n",
        "    loss = criterion(output.view(-1), y_train)\n",
        "\n",
        "    optimizer.zero_grad()\n",
        "    loss.backward()\n",
        "    optimizer.step()\n",
        "\n",
        "    # Validation phase\n",
        "    model_EB_LG.eval()\n",
        "    with torch.no_grad():\n",
        "      val_outputs = model_EB_LG(X_val)\n",
        "      val_loss = criterion(val_outputs.view(-1), y_val)\n",
        "\n",
        "    scheduler.step()\n",
        "\n",
        "\n",
        "    # Collect the training loss values in list\n",
        "    train_losses.append(loss.item())\n",
        "\n",
        "    # Check for early stopping\n",
        "    if val_loss < best_loss:\n",
        "      best_loss = val_loss\n",
        "      counter = 0\n",
        "    else:\n",
        "      counter += 1\n",
        "      if counter >= patience:\n",
        "        print(\"Early stopping. No improvement for {} epochs.\".format(patience))\n",
        "        break\n",
        "  else:\n",
        "    break\n",
        "\n",
        "\n",
        "end_time = time.time()\n",
        "duration = round(end_time - start_time, 3)\n",
        "print(f\"Training took {duration} seconds.\")\n",
        "print()\n",
        "if epoch+1 < epoch_bound and loss < lg:\n",
        "  print('Acceptable, Epoch {}, Loss: {}'.format(epoch+1, loss.item()))\n",
        "else:\n",
        "  print('Unacceptable, reach epochs {} but loss > {}.\\nEpoch {}, Loss: {}'.format(epoch_bound, lg, epoch+1, loss.item()))\n",
        "\n"
      ],
      "metadata": {
        "colab": {
          "base_uri": "https://localhost:8080/"
        },
        "id": "DggVr_6pRuim",
        "outputId": "0b266298-6976-42aa-b5d7-7b5d14403d54"
      },
      "execution_count": null,
      "outputs": [
        {
          "output_type": "stream",
          "name": "stdout",
          "text": [
            "Early stopping. No improvement for 5 epochs.\n",
            "Training took 0.024 seconds.\n",
            "\n",
            "Unacceptable, reach epochs 100 but loss > 0.42.\n",
            "Epoch 19, Loss: 0.4394673705101013\n"
          ]
        }
      ]
    },
    {
      "cell_type": "markdown",
      "source": [
        "## Network-tuning"
      ],
      "metadata": {
        "id": "c7yNn6Z32NNT"
      }
    },
    {
      "cell_type": "code",
      "source": [
        "torch.save(model_EB_LG, 'Acc_SLFN.pt') # 存下 weight-tuning_LG_UA 的所有參數，當作 network-tuning 的 Acceptable SLFN"
      ],
      "metadata": {
        "id": "Ap2iNcc0xz3i"
      },
      "execution_count": null,
      "outputs": []
    },
    {
      "cell_type": "code",
      "source": [
        "import numpy as np\n",
        "model_1 = torch.load('Acc_SLFN.pt')\n",
        "\n",
        "p = model_1.fc1.bias.shape[0]\n",
        "k = 1\n",
        "count = 0\n",
        "while k <= p:\n",
        "  torch.save(model_1, 'temp.pt')\n",
        "  # Get the weight matrix of the first linear layer of the model\n",
        "  weight_matrix = model_1.fc1.weight.detach().numpy()\n",
        "  # Delete the k-th row from the weight matrix using NumPy's delete() function\n",
        "  modified_weight_matrix = np.delete(weight_matrix, (k-1), axis=0)\n",
        "  model_1.fc1.weight = nn.Parameter(torch.from_numpy(modified_weight_matrix).type(torch.Tensor))\n",
        "\n",
        "  bias_matrix = model_1.fc1.bias.detach().numpy()\n",
        "  modified_bias_matrix = np.delete(bias_matrix, k-1)\n",
        "  model_1.fc1.bias = nn.Parameter(torch.from_numpy(modified_bias_matrix).type(torch.Tensor))\n",
        "\n",
        "  weight_matrix_2 = model_1.output.weight.detach().numpy()\n",
        "  modified_weight_matrix_2 = np.delete(weight_matrix_2, k-1, 1)\n",
        "  model_1.output.weight = nn.Parameter(torch.from_numpy(modified_weight_matrix_2).type(torch.Tensor))\n",
        "\n",
        "  output = model_1(X_train)\n",
        "  w_loss = criterion(output.view(-1), y_train)\n",
        "  w_loss.backward() # w的偏微分\n",
        "  if w_loss > loss+0.1:\n",
        "    print(f'\\nRestore 第{count+1}個 hidden node, because it is an unacceptable SLFN')\n",
        "    model_1 = torch.load('temp.pt')\n",
        "\n",
        "    # regularizing\n",
        "    optimizer.param_groups[0]['lr'] *= 0.7\n",
        "    optimizer.step() # w'：w往偏微分的方向走一個step size\n",
        "    print('Regularizing done.')\n",
        "    k += 1\n",
        "    count += 1\n",
        "  else:\n",
        "    print(f'\\nDelete 第{count+1}個 hidden node, the loss = {w_loss:.4f}')\n",
        "    print('Acceptable SLFN')\n",
        "    # regularizing\n",
        "    optimizer.param_groups[0]['lr'] *= 0.7\n",
        "    optimizer.step() # w'：w往偏微分的方向走一個step size\n",
        "    print('Regularizing done.')\n",
        "    p -= 1\n",
        "    count += 1"
      ],
      "metadata": {
        "colab": {
          "base_uri": "https://localhost:8080/"
        },
        "id": "PZBZDih4xpIb",
        "outputId": "3945696e-6e02-421d-84a3-8a9f01a81fed"
      },
      "execution_count": null,
      "outputs": [
        {
          "output_type": "stream",
          "name": "stdout",
          "text": [
            "\n",
            "Delete 第1個 hidden node, the loss = 0.4588\n",
            "Acceptable SLFN\n",
            "Regularizing done.\n",
            "\n",
            "Delete 第2個 hidden node, the loss = 0.4580\n",
            "Acceptable SLFN\n",
            "Regularizing done.\n",
            "\n",
            "Delete 第3個 hidden node, the loss = 0.4980\n",
            "Acceptable SLFN\n",
            "Regularizing done.\n",
            "\n",
            "Delete 第4個 hidden node, the loss = 0.5362\n",
            "Acceptable SLFN\n",
            "Regularizing done.\n",
            "\n",
            "Restore 第5個 hidden node, because it is an unacceptable SLFN\n",
            "Regularizing done.\n",
            "\n",
            "Restore 第6個 hidden node, because it is an unacceptable SLFN\n",
            "Regularizing done.\n",
            "\n",
            "Delete 第7個 hidden node, the loss = 0.5367\n",
            "Acceptable SLFN\n",
            "Regularizing done.\n",
            "\n",
            "Restore 第8個 hidden node, because it is an unacceptable SLFN\n",
            "Regularizing done.\n",
            "\n",
            "Restore 第9個 hidden node, because it is an unacceptable SLFN\n",
            "Regularizing done.\n",
            "\n",
            "Restore 第10個 hidden node, because it is an unacceptable SLFN\n",
            "Regularizing done.\n",
            "\n",
            "Restore 第11個 hidden node, because it is an unacceptable SLFN\n",
            "Regularizing done.\n",
            "\n",
            "Restore 第12個 hidden node, because it is an unacceptable SLFN\n",
            "Regularizing done.\n",
            "\n",
            "Restore 第13個 hidden node, because it is an unacceptable SLFN\n",
            "Regularizing done.\n"
          ]
        }
      ]
    },
    {
      "cell_type": "markdown",
      "source": [
        "## Accuracy after network-tuning"
      ],
      "metadata": {
        "id": "tnB9uBMy2QAv"
      }
    },
    {
      "cell_type": "code",
      "source": [
        "y_pred = model_1(X_test)\n",
        "\n",
        "# Convert predicted probabilities to class labels\n",
        "y_pred_labels = torch.round(torch.sigmoid(y_pred))\n",
        "\n",
        "# Calculate accuracy\n",
        "total = len(y_test)\n",
        "correct = 0\n",
        "for i in range(len(y_pred_labels)):\n",
        "  if y_pred_labels[i] == y_test[i]:\n",
        "    correct += 1\n",
        "accuracy = round((correct / total) * 100,2)\n",
        "\n",
        "print(f\"Accuracy: {accuracy}%\")"
      ],
      "metadata": {
        "colab": {
          "base_uri": "https://localhost:8080/"
        },
        "id": "gp_QFOtlyWeH",
        "outputId": "26a45a63-ce78-4277-85f8-e5c131b89474"
      },
      "execution_count": null,
      "outputs": [
        {
          "output_type": "stream",
          "name": "stdout",
          "text": [
            "Accuracy: 68.18%\n"
          ]
        }
      ]
    },
    {
      "cell_type": "code",
      "source": [
        "for name, param in model_1.named_parameters():\n",
        "    print(name, param)"
      ],
      "metadata": {
        "colab": {
          "base_uri": "https://localhost:8080/"
        },
        "id": "42wkbQ00ycsE",
        "outputId": "dd1ed8c5-93ff-4f4b-b46d-7a3c1d161689"
      },
      "execution_count": null,
      "outputs": [
        {
          "output_type": "stream",
          "name": "stdout",
          "text": [
            "fc1.weight Parameter containing:\n",
            "tensor([[-0.6824, -0.2348, -0.1100, -0.6780, -0.0060, -0.5971, -0.3518, -0.4702],\n",
            "        [ 0.1618,  0.5761,  0.0137, -0.0728, -0.0868,  0.3116,  0.1950,  0.0009],\n",
            "        [ 0.8322,  0.3996,  0.4662,  0.2700,  0.5889,  0.5702,  0.8186,  0.7806],\n",
            "        [ 0.8322,  0.3996,  0.4662,  0.2700,  0.5889,  0.5702,  0.8186,  0.7806],\n",
            "        [ 0.8322,  0.3996,  0.4662,  0.2700,  0.5889,  0.5702,  0.8186,  0.7806],\n",
            "        [ 0.8322,  0.3996,  0.4662,  0.2700,  0.5889,  0.5702,  0.8186,  0.7806],\n",
            "        [ 0.8322,  0.3996,  0.4662,  0.2700,  0.5889,  0.5702,  0.8186,  0.7806],\n",
            "        [ 0.8322,  0.3996,  0.4662,  0.2700,  0.5889,  0.5702,  0.8186,  0.7806]],\n",
            "       requires_grad=True)\n",
            "fc1.bias Parameter containing:\n",
            "tensor([ 0.3722, -0.2972, -1.8218, -2.0914, -2.3610, -1.7453, -2.0149, -2.2845],\n",
            "       requires_grad=True)\n",
            "output.weight Parameter containing:\n",
            "tensor([[ -0.7096,   0.4824,  -8.3849,  16.7699,  -8.3849,   5.9298, -11.8595,\n",
            "           5.9298]], requires_grad=True)\n",
            "output.bias Parameter containing:\n",
            "tensor([-0.3538], requires_grad=True)\n"
          ]
        }
      ]
    }
  ]
}